{
  "nbformat": 4,
  "nbformat_minor": 0,
  "metadata": {
    "colab": {
      "name": "Shamsul_Abedin_CA683I-ID19215008_Netflix_Movie.ipynb",
      "provenance": [],
      "collapsed_sections": [],
      "toc_visible": true,
      "authorship_tag": "ABX9TyMaAZQXzcHp52tBjXtTmkZG",
      "include_colab_link": true
    },
    "kernelspec": {
      "name": "python3",
      "display_name": "Python 3"
    }
  },
  "cells": [
    {
      "cell_type": "markdown",
      "metadata": {
        "id": "view-in-github",
        "colab_type": "text"
      },
      "source": [
        "<a href=\"https://colab.research.google.com/github/ShamsulAbedin/CA683I/blob/master/Shamsul_Abedin_CA683I_ID19215008_Netflix_Movie.ipynb\" target=\"_parent\"><img src=\"https://colab.research.google.com/assets/colab-badge.svg\" alt=\"Open In Colab\"/></a>"
      ]
    },
    {
      "cell_type": "markdown",
      "metadata": {
        "id": "5291P1aN73HY",
        "colab_type": "text"
      },
      "source": [
        "Assignment: Data Analytics and Data Mining\n",
        "\n",
        "Research Question: Which Movie or TV show should I watch in Netflix\n",
        "\n",
        "Student Details:\n",
        "\n",
        "*   Student Name: Md Shamsul Abedin Malik\n",
        "*   Course: CA683I Data Analytics and Data Mining\n",
        "*   Student Number: 19215008"
      ]
    },
    {
      "cell_type": "markdown",
      "metadata": {
        "id": "o-jJCFhF7Em7",
        "colab_type": "text"
      },
      "source": [
        "#1 Objective"
      ]
    },
    {
      "cell_type": "markdown",
      "metadata": {
        "id": "lv07LnyhpUKr",
        "colab_type": "text"
      },
      "source": [
        "\n",
        "\n",
        "Netflix has done radical revolution in Entertainment industry and it has created a big platform for the Media industry where wide variety of shows are broadcasting on a regular basis. Sometimes it becomes a big challenge to determine what should I watch next in Netflix.\n",
        "\n",
        "In this project, I have tried to present a recommender system which will analyze the best movies and TV shows based on rating, contents, director, type, etc where I have used content-based filtering recommendation model. Analysis has been done based on approx. 148500 different words in 6235 differnt Movies and TV shows from Netflix.\n",
        "\n"
      ]
    },
    {
      "cell_type": "markdown",
      "metadata": {
        "id": "aM_qydyb8FR0",
        "colab_type": "text"
      },
      "source": [
        "#2 Data Preparation"
      ]
    },
    {
      "cell_type": "markdown",
      "metadata": {
        "id": "FbeHmP7L8bTZ",
        "colab_type": "text"
      },
      "source": [
        "##2.1 Data loading\n",
        "\n"
      ]
    },
    {
      "cell_type": "markdown",
      "metadata": {
        "id": "hJSEHSFT3f-z",
        "colab_type": "text"
      },
      "source": [
        "**Following Package might need to install**\n"
      ]
    },
    {
      "cell_type": "code",
      "metadata": {
        "id": "FnbUboNRoxIN",
        "colab_type": "code",
        "outputId": "df0b9e86-55e3-4c7e-fc16-7d6f5120ce43",
        "colab": {
          "base_uri": "https://localhost:8080/",
          "height": 220
        }
      },
      "source": [
        "!pip install -q plotly\n",
        "!pip install -q plotly_express\n",
        "!pip install rake_nltk\n",
        "!pip install -q cufflinks"
      ],
      "execution_count": 1,
      "outputs": [
        {
          "output_type": "stream",
          "text": [
            "Collecting rake_nltk\n",
            "  Downloading https://files.pythonhosted.org/packages/8e/c4/b4ff57e541ac5624ad4b20b89c2bafd4e98f29fd83139f3a81858bdb3815/rake_nltk-1.0.4.tar.gz\n",
            "Requirement already satisfied: nltk in /usr/local/lib/python3.6/dist-packages (from rake_nltk) (3.2.5)\n",
            "Requirement already satisfied: six in /usr/local/lib/python3.6/dist-packages (from nltk->rake_nltk) (1.12.0)\n",
            "Building wheels for collected packages: rake-nltk\n",
            "  Building wheel for rake-nltk (setup.py) ... \u001b[?25l\u001b[?25hdone\n",
            "  Created wheel for rake-nltk: filename=rake_nltk-1.0.4-py2.py3-none-any.whl size=7819 sha256=c91bf5ea02cc9a3dd6504a5fc51fde5740087f8f31ae4e096bdc2045ec45bd72\n",
            "  Stored in directory: /root/.cache/pip/wheels/ef/92/fc/271b3709e71a96ffe934b27818946b795ac6b9b8ff8682483f\n",
            "Successfully built rake-nltk\n",
            "Installing collected packages: rake-nltk\n",
            "Successfully installed rake-nltk-1.0.4\n"
          ],
          "name": "stdout"
        }
      ]
    },
    {
      "cell_type": "markdown",
      "metadata": {
        "id": "MZ_Ep2x2qBGZ",
        "colab_type": "text"
      },
      "source": [
        "\n",
        "\n",
        "**Import Modules from different packages**"
      ]
    },
    {
      "cell_type": "code",
      "metadata": {
        "id": "aIQpDhyLo5gW",
        "colab_type": "code",
        "outputId": "2f168989-cfaf-411a-c98f-45b6d40364f5",
        "colab": {
          "base_uri": "https://localhost:8080/",
          "height": 70
        }
      },
      "source": [
        "import numpy as np # linear algebra\n",
        "import pandas as pd # data processing, CSV file I/O (e.g. pd.read_csv)\n",
        "import seaborn as sns\n",
        "import matplotlib.pyplot as plt\n",
        "import plotly.graph_objects as go\n",
        "import plotly.graph_objs as go\n",
        "import plotly.offline as py\n",
        "import plotly_express as px\n",
        "import plotly.tools as tls\n",
        "import plotly.figure_factory as ff\n",
        "from plotly.offline import init_notebook_mode, iplot\n",
        "from plotly.offline import init_notebook_mode\n",
        "import os\n",
        "from tqdm import tqdm, tqdm_notebook\n",
        "from IPython.display import HTML\n",
        "import json\n",
        "from nltk.corpus import stopwords\n",
        "from nltk.stem import WordNetLemmatizer\n",
        "from sklearn.feature_extraction.text import TfidfVectorizer\n",
        "from sklearn.metrics.pairwise import cosine_similarity\n",
        "from collections import Counter\n",
        "import cufflinks as cf\n"
      ],
      "execution_count": 2,
      "outputs": [
        {
          "output_type": "stream",
          "text": [
            "/usr/local/lib/python3.6/dist-packages/statsmodels/tools/_testing.py:19: FutureWarning: pandas.util.testing is deprecated. Use the functions in the public API at pandas.testing instead.\n",
            "  import pandas.util.testing as tm\n"
          ],
          "name": "stderr"
        }
      ]
    },
    {
      "cell_type": "markdown",
      "metadata": {
        "id": "0Tp-J91FSZJA",
        "colab_type": "text"
      },
      "source": [
        "**Descriptive Analysis** *italicized text*"
      ]
    },
    {
      "cell_type": "code",
      "metadata": {
        "colab_type": "code",
        "outputId": "9b9be633-6ab5-4b29-f335-0850ca38d7e7",
        "id": "jgjYLbBcYVQs",
        "colab": {
          "base_uri": "https://localhost:8080/",
          "height": 120
        }
      },
      "source": [
        "# Mount google drive in colab to link the Netflix data-set\n",
        "from google.colab import drive\n",
        "drive.mount('/content/drive')"
      ],
      "execution_count": 3,
      "outputs": [
        {
          "output_type": "stream",
          "text": [
            "Go to this URL in a browser: https://accounts.google.com/o/oauth2/auth?client_id=947318989803-6bn6qk8qdgf4n4g3pfee6491hc0brc4i.apps.googleusercontent.com&redirect_uri=urn%3aietf%3awg%3aoauth%3a2.0%3aoob&response_type=code&scope=email%20https%3a%2f%2fwww.googleapis.com%2fauth%2fdocs.test%20https%3a%2f%2fwww.googleapis.com%2fauth%2fdrive%20https%3a%2f%2fwww.googleapis.com%2fauth%2fdrive.photos.readonly%20https%3a%2f%2fwww.googleapis.com%2fauth%2fpeopleapi.readonly\n",
            "\n",
            "Enter your authorization code:\n",
            "··········\n",
            "Mounted at /content/drive\n"
          ],
          "name": "stdout"
        }
      ]
    },
    {
      "cell_type": "code",
      "metadata": {
        "id": "Tg-E6PXAjtF2",
        "colab_type": "code",
        "outputId": "1743d9ed-5819-4037-d1c1-93f4de76729b",
        "colab": {
          "base_uri": "https://localhost:8080/",
          "height": 33
        }
      },
      "source": [
        "from google.colab import drive\n",
        "import os\n",
        "drive.mount('/content/drive/')"
      ],
      "execution_count": 4,
      "outputs": [
        {
          "output_type": "stream",
          "text": [
            "Drive already mounted at /content/drive/; to attempt to forcibly remount, call drive.mount(\"/content/drive/\", force_remount=True).\n"
          ],
          "name": "stdout"
        }
      ]
    },
    {
      "cell_type": "code",
      "metadata": {
        "id": "WlUTRAOhueT0",
        "colab_type": "code",
        "colab": {}
      },
      "source": [
        "os.chdir('/content/drive/My Drive/Colab_Notebooks/')"
      ],
      "execution_count": 0,
      "outputs": []
    },
    {
      "cell_type": "code",
      "metadata": {
        "id": "Ce5AbzpV5VIm",
        "colab_type": "code",
        "outputId": "2dd0a39b-e80a-4b99-a6f6-ada6cb0c0b7c",
        "colab": {
          "base_uri": "https://localhost:8080/",
          "height": 50
        }
      },
      "source": [
        "import os\n",
        "for dirname, _, filenames in os.walk('/content/drive/My Drive/Colab_Notebooks/'):\n",
        "    for filename in filenames:\n",
        "        print(os.path.join(dirname, filename))"
      ],
      "execution_count": 11,
      "outputs": [
        {
          "output_type": "stream",
          "text": [
            "/content/drive/My Drive/Colab_Notebooks/netflix_titles.csv\n",
            "/content/drive/My Drive/Colab_Notebooks/Shamsul_Abedin_DA-ID19215008.ipynb\n"
          ],
          "name": "stdout"
        }
      ]
    },
    {
      "cell_type": "code",
      "metadata": {
        "id": "APPEq3XiQ7KZ",
        "colab_type": "code",
        "colab": {}
      },
      "source": [
        "#Reading the dataset\n",
        "df = pd.read_csv(\"/content/drive/My Drive/Colab_Notebooks/netflix_titles.csv\")"
      ],
      "execution_count": 0,
      "outputs": []
    },
    {
      "cell_type": "code",
      "metadata": {
        "id": "juAZRp6T5bMO",
        "colab_type": "code",
        "outputId": "5e4a5a37-2d01-453f-ea6b-25cb4ffdb326",
        "colab": {
          "base_uri": "https://localhost:8080/",
          "height": 464
        }
      },
      "source": [
        "df.tail()  # read the last five rows"
      ],
      "execution_count": 13,
      "outputs": [
        {
          "output_type": "execute_result",
          "data": {
            "text/html": [
              "<div>\n",
              "<style scoped>\n",
              "    .dataframe tbody tr th:only-of-type {\n",
              "        vertical-align: middle;\n",
              "    }\n",
              "\n",
              "    .dataframe tbody tr th {\n",
              "        vertical-align: top;\n",
              "    }\n",
              "\n",
              "    .dataframe thead th {\n",
              "        text-align: right;\n",
              "    }\n",
              "</style>\n",
              "<table border=\"1\" class=\"dataframe\">\n",
              "  <thead>\n",
              "    <tr style=\"text-align: right;\">\n",
              "      <th></th>\n",
              "      <th>show_id</th>\n",
              "      <th>type</th>\n",
              "      <th>title</th>\n",
              "      <th>director</th>\n",
              "      <th>cast</th>\n",
              "      <th>country</th>\n",
              "      <th>date_added</th>\n",
              "      <th>release_year</th>\n",
              "      <th>rating</th>\n",
              "      <th>duration</th>\n",
              "      <th>listed_in</th>\n",
              "      <th>description</th>\n",
              "    </tr>\n",
              "  </thead>\n",
              "  <tbody>\n",
              "    <tr>\n",
              "      <th>6229</th>\n",
              "      <td>80000063</td>\n",
              "      <td>TV Show</td>\n",
              "      <td>Red vs. Blue</td>\n",
              "      <td>NaN</td>\n",
              "      <td>Burnie Burns, Jason Saldaña, Gustavo Sorola, G...</td>\n",
              "      <td>United States</td>\n",
              "      <td>NaN</td>\n",
              "      <td>2015</td>\n",
              "      <td>NR</td>\n",
              "      <td>13 Seasons</td>\n",
              "      <td>TV Action &amp; Adventure, TV Comedies, TV Sci-Fi ...</td>\n",
              "      <td>This parody of first-person shooter games, mil...</td>\n",
              "    </tr>\n",
              "    <tr>\n",
              "      <th>6230</th>\n",
              "      <td>70286564</td>\n",
              "      <td>TV Show</td>\n",
              "      <td>Maron</td>\n",
              "      <td>NaN</td>\n",
              "      <td>Marc Maron, Judd Hirsch, Josh Brener, Nora Zeh...</td>\n",
              "      <td>United States</td>\n",
              "      <td>NaN</td>\n",
              "      <td>2016</td>\n",
              "      <td>TV-MA</td>\n",
              "      <td>4 Seasons</td>\n",
              "      <td>TV Comedies</td>\n",
              "      <td>Marc Maron stars as Marc Maron, who interviews...</td>\n",
              "    </tr>\n",
              "    <tr>\n",
              "      <th>6231</th>\n",
              "      <td>80116008</td>\n",
              "      <td>Movie</td>\n",
              "      <td>Little Baby Bum: Nursery Rhyme Friends</td>\n",
              "      <td>NaN</td>\n",
              "      <td>NaN</td>\n",
              "      <td>NaN</td>\n",
              "      <td>NaN</td>\n",
              "      <td>2016</td>\n",
              "      <td>NaN</td>\n",
              "      <td>60 min</td>\n",
              "      <td>Movies</td>\n",
              "      <td>Nursery rhymes and original music for children...</td>\n",
              "    </tr>\n",
              "    <tr>\n",
              "      <th>6232</th>\n",
              "      <td>70281022</td>\n",
              "      <td>TV Show</td>\n",
              "      <td>A Young Doctor's Notebook and Other Stories</td>\n",
              "      <td>NaN</td>\n",
              "      <td>Daniel Radcliffe, Jon Hamm, Adam Godley, Chris...</td>\n",
              "      <td>United Kingdom</td>\n",
              "      <td>NaN</td>\n",
              "      <td>2013</td>\n",
              "      <td>TV-MA</td>\n",
              "      <td>2 Seasons</td>\n",
              "      <td>British TV Shows, TV Comedies, TV Dramas</td>\n",
              "      <td>Set during the Russian Revolution, this comic ...</td>\n",
              "    </tr>\n",
              "    <tr>\n",
              "      <th>6233</th>\n",
              "      <td>70153404</td>\n",
              "      <td>TV Show</td>\n",
              "      <td>Friends</td>\n",
              "      <td>NaN</td>\n",
              "      <td>Jennifer Aniston, Courteney Cox, Lisa Kudrow, ...</td>\n",
              "      <td>United States</td>\n",
              "      <td>NaN</td>\n",
              "      <td>2003</td>\n",
              "      <td>TV-14</td>\n",
              "      <td>10 Seasons</td>\n",
              "      <td>Classic &amp; Cult TV, TV Comedies</td>\n",
              "      <td>This hit sitcom follows the merry misadventure...</td>\n",
              "    </tr>\n",
              "  </tbody>\n",
              "</table>\n",
              "</div>"
            ],
            "text/plain": [
              "       show_id  ...                                        description\n",
              "6229  80000063  ...  This parody of first-person shooter games, mil...\n",
              "6230  70286564  ...  Marc Maron stars as Marc Maron, who interviews...\n",
              "6231  80116008  ...  Nursery rhymes and original music for children...\n",
              "6232  70281022  ...  Set during the Russian Revolution, this comic ...\n",
              "6233  70153404  ...  This hit sitcom follows the merry misadventure...\n",
              "\n",
              "[5 rows x 12 columns]"
            ]
          },
          "metadata": {
            "tags": []
          },
          "execution_count": 13
        }
      ]
    },
    {
      "cell_type": "code",
      "metadata": {
        "id": "PvxhdO3mrh7J",
        "colab_type": "code",
        "colab": {
          "base_uri": "https://localhost:8080/",
          "height": 514
        },
        "outputId": "546dd73c-51ae-4355-987a-5f2e450eb08a"
      },
      "source": [
        "df.head()  # read the first five rows"
      ],
      "execution_count": 14,
      "outputs": [
        {
          "output_type": "execute_result",
          "data": {
            "text/html": [
              "<div>\n",
              "<style scoped>\n",
              "    .dataframe tbody tr th:only-of-type {\n",
              "        vertical-align: middle;\n",
              "    }\n",
              "\n",
              "    .dataframe tbody tr th {\n",
              "        vertical-align: top;\n",
              "    }\n",
              "\n",
              "    .dataframe thead th {\n",
              "        text-align: right;\n",
              "    }\n",
              "</style>\n",
              "<table border=\"1\" class=\"dataframe\">\n",
              "  <thead>\n",
              "    <tr style=\"text-align: right;\">\n",
              "      <th></th>\n",
              "      <th>show_id</th>\n",
              "      <th>type</th>\n",
              "      <th>title</th>\n",
              "      <th>director</th>\n",
              "      <th>cast</th>\n",
              "      <th>country</th>\n",
              "      <th>date_added</th>\n",
              "      <th>release_year</th>\n",
              "      <th>rating</th>\n",
              "      <th>duration</th>\n",
              "      <th>listed_in</th>\n",
              "      <th>description</th>\n",
              "    </tr>\n",
              "  </thead>\n",
              "  <tbody>\n",
              "    <tr>\n",
              "      <th>0</th>\n",
              "      <td>81145628</td>\n",
              "      <td>Movie</td>\n",
              "      <td>Norm of the North: King Sized Adventure</td>\n",
              "      <td>Richard Finn, Tim Maltby</td>\n",
              "      <td>Alan Marriott, Andrew Toth, Brian Dobson, Cole...</td>\n",
              "      <td>United States, India, South Korea, China</td>\n",
              "      <td>September 9, 2019</td>\n",
              "      <td>2019</td>\n",
              "      <td>TV-PG</td>\n",
              "      <td>90 min</td>\n",
              "      <td>Children &amp; Family Movies, Comedies</td>\n",
              "      <td>Before planning an awesome wedding for his gra...</td>\n",
              "    </tr>\n",
              "    <tr>\n",
              "      <th>1</th>\n",
              "      <td>80117401</td>\n",
              "      <td>Movie</td>\n",
              "      <td>Jandino: Whatever it Takes</td>\n",
              "      <td>NaN</td>\n",
              "      <td>Jandino Asporaat</td>\n",
              "      <td>United Kingdom</td>\n",
              "      <td>September 9, 2016</td>\n",
              "      <td>2016</td>\n",
              "      <td>TV-MA</td>\n",
              "      <td>94 min</td>\n",
              "      <td>Stand-Up Comedy</td>\n",
              "      <td>Jandino Asporaat riffs on the challenges of ra...</td>\n",
              "    </tr>\n",
              "    <tr>\n",
              "      <th>2</th>\n",
              "      <td>70234439</td>\n",
              "      <td>TV Show</td>\n",
              "      <td>Transformers Prime</td>\n",
              "      <td>NaN</td>\n",
              "      <td>Peter Cullen, Sumalee Montano, Frank Welker, J...</td>\n",
              "      <td>United States</td>\n",
              "      <td>September 8, 2018</td>\n",
              "      <td>2013</td>\n",
              "      <td>TV-Y7-FV</td>\n",
              "      <td>1 Season</td>\n",
              "      <td>Kids' TV</td>\n",
              "      <td>With the help of three human allies, the Autob...</td>\n",
              "    </tr>\n",
              "    <tr>\n",
              "      <th>3</th>\n",
              "      <td>80058654</td>\n",
              "      <td>TV Show</td>\n",
              "      <td>Transformers: Robots in Disguise</td>\n",
              "      <td>NaN</td>\n",
              "      <td>Will Friedle, Darren Criss, Constance Zimmer, ...</td>\n",
              "      <td>United States</td>\n",
              "      <td>September 8, 2018</td>\n",
              "      <td>2016</td>\n",
              "      <td>TV-Y7</td>\n",
              "      <td>1 Season</td>\n",
              "      <td>Kids' TV</td>\n",
              "      <td>When a prison ship crash unleashes hundreds of...</td>\n",
              "    </tr>\n",
              "    <tr>\n",
              "      <th>4</th>\n",
              "      <td>80125979</td>\n",
              "      <td>Movie</td>\n",
              "      <td>#realityhigh</td>\n",
              "      <td>Fernando Lebrija</td>\n",
              "      <td>Nesta Cooper, Kate Walsh, John Michael Higgins...</td>\n",
              "      <td>United States</td>\n",
              "      <td>September 8, 2017</td>\n",
              "      <td>2017</td>\n",
              "      <td>TV-14</td>\n",
              "      <td>99 min</td>\n",
              "      <td>Comedies</td>\n",
              "      <td>When nerdy high schooler Dani finally attracts...</td>\n",
              "    </tr>\n",
              "  </tbody>\n",
              "</table>\n",
              "</div>"
            ],
            "text/plain": [
              "    show_id  ...                                        description\n",
              "0  81145628  ...  Before planning an awesome wedding for his gra...\n",
              "1  80117401  ...  Jandino Asporaat riffs on the challenges of ra...\n",
              "2  70234439  ...  With the help of three human allies, the Autob...\n",
              "3  80058654  ...  When a prison ship crash unleashes hundreds of...\n",
              "4  80125979  ...  When nerdy high schooler Dani finally attracts...\n",
              "\n",
              "[5 rows x 12 columns]"
            ]
          },
          "metadata": {
            "tags": []
          },
          "execution_count": 14
        }
      ]
    },
    {
      "cell_type": "markdown",
      "metadata": {
        "id": "d2NUp3bdsp2G",
        "colab_type": "text"
      },
      "source": [
        "##2.2 Data Viewing"
      ]
    },
    {
      "cell_type": "code",
      "metadata": {
        "id": "BBsWCAQc5eIH",
        "colab_type": "code",
        "outputId": "b471cacf-b386-4436-cfcd-8914cf6f5c6f",
        "colab": {
          "base_uri": "https://localhost:8080/",
          "height": 33
        }
      },
      "source": [
        "print(\"Dataset contains {} rows and {} columns\".format(df.shape[0], df.shape[1]))"
      ],
      "execution_count": 15,
      "outputs": [
        {
          "output_type": "stream",
          "text": [
            "Dataset contains 6234 rows and 12 columns\n"
          ],
          "name": "stdout"
        }
      ]
    },
    {
      "cell_type": "code",
      "metadata": {
        "id": "_FriwuhJrY-9",
        "colab_type": "code",
        "colab": {
          "base_uri": "https://localhost:8080/",
          "height": 33
        },
        "outputId": "df6366d9-ad87-4cb8-af85-a36780654d04"
      },
      "source": [
        "# check out the dimension of the dataset\n",
        "df.shape"
      ],
      "execution_count": 20,
      "outputs": [
        {
          "output_type": "execute_result",
          "data": {
            "text/plain": [
              "(6234, 12)"
            ]
          },
          "metadata": {
            "tags": []
          },
          "execution_count": 20
        }
      ]
    },
    {
      "cell_type": "code",
      "metadata": {
        "id": "gknW7h-ipr1Y",
        "colab_type": "code",
        "colab": {
          "base_uri": "https://localhost:8080/",
          "height": 67
        },
        "outputId": "c3ad8e86-c296-42f3-de6a-d25f5c006105"
      },
      "source": [
        "# return an array of column names\n",
        "df.columns.values"
      ],
      "execution_count": 21,
      "outputs": [
        {
          "output_type": "execute_result",
          "data": {
            "text/plain": [
              "array(['show_id', 'type', 'title', 'director', 'cast', 'country',\n",
              "       'date_added', 'release_year', 'rating', 'duration', 'listed_in',\n",
              "       'description'], dtype=object)"
            ]
          },
          "metadata": {
            "tags": []
          },
          "execution_count": 21
        }
      ]
    },
    {
      "cell_type": "code",
      "metadata": {
        "id": "F8iAQWhupdiu",
        "colab_type": "code",
        "colab": {
          "base_uri": "https://localhost:8080/",
          "height": 217
        },
        "outputId": "629eb01c-9214-4472-959b-f324e5711266"
      },
      "source": [
        "# return a list of column names\n",
        "df.columns.values.tolist() "
      ],
      "execution_count": 22,
      "outputs": [
        {
          "output_type": "execute_result",
          "data": {
            "text/plain": [
              "['show_id',\n",
              " 'type',\n",
              " 'title',\n",
              " 'director',\n",
              " 'cast',\n",
              " 'country',\n",
              " 'date_added',\n",
              " 'release_year',\n",
              " 'rating',\n",
              " 'duration',\n",
              " 'listed_in',\n",
              " 'description']"
            ]
          },
          "metadata": {
            "tags": []
          },
          "execution_count": 22
        }
      ]
    },
    {
      "cell_type": "code",
      "metadata": {
        "id": "ajbcMH9IpSbC",
        "colab_type": "code",
        "colab": {
          "base_uri": "https://localhost:8080/",
          "height": 233
        },
        "outputId": "a565d8b2-13c2-4f9c-e473-3d4474c61a78"
      },
      "source": [
        "# look at the data types for each column\n",
        "df.dtypes  "
      ],
      "execution_count": 23,
      "outputs": [
        {
          "output_type": "execute_result",
          "data": {
            "text/plain": [
              "show_id          int64\n",
              "type            object\n",
              "title           object\n",
              "director        object\n",
              "cast            object\n",
              "country         object\n",
              "date_added      object\n",
              "release_year     int64\n",
              "rating          object\n",
              "duration        object\n",
              "listed_in       object\n",
              "description     object\n",
              "dtype: object"
            ]
          },
          "metadata": {
            "tags": []
          },
          "execution_count": 23
        }
      ]
    },
    {
      "cell_type": "code",
      "metadata": {
        "id": "Famw4n42VW-K",
        "colab_type": "code",
        "outputId": "5e08ec9e-fb68-44e3-bb0a-ae2b1ab57834",
        "colab": {
          "base_uri": "https://localhost:8080/",
          "height": 233
        }
      },
      "source": [
        "df.nunique()"
      ],
      "execution_count": 24,
      "outputs": [
        {
          "output_type": "execute_result",
          "data": {
            "text/plain": [
              "show_id         6234\n",
              "type               2\n",
              "title           6172\n",
              "director        3301\n",
              "cast            5469\n",
              "country          554\n",
              "date_added      1524\n",
              "release_year      72\n",
              "rating            14\n",
              "duration         201\n",
              "listed_in        461\n",
              "description     6226\n",
              "dtype: int64"
            ]
          },
          "metadata": {
            "tags": []
          },
          "execution_count": 24
        }
      ]
    },
    {
      "cell_type": "code",
      "metadata": {
        "id": "reRhaW5j5gwg",
        "colab_type": "code",
        "outputId": "afa87398-01e9-4c3e-e6e9-45cb085a353e",
        "colab": {
          "base_uri": "https://localhost:8080/",
          "height": 233
        }
      },
      "source": [
        "# knowing how many missing values in the data\n",
        "df.isnull().sum()"
      ],
      "execution_count": 25,
      "outputs": [
        {
          "output_type": "execute_result",
          "data": {
            "text/plain": [
              "show_id            0\n",
              "type               0\n",
              "title              0\n",
              "director        1969\n",
              "cast             570\n",
              "country          476\n",
              "date_added        11\n",
              "release_year       0\n",
              "rating            10\n",
              "duration           0\n",
              "listed_in          0\n",
              "description        0\n",
              "dtype: int64"
            ]
          },
          "metadata": {
            "tags": []
          },
          "execution_count": 25
        }
      ]
    },
    {
      "cell_type": "code",
      "metadata": {
        "id": "VsJbPtRW5qS-",
        "colab_type": "code",
        "colab": {}
      },
      "source": [
        "df[\"date_added\"] = pd.to_datetime(df['date_added'])\n",
        "df['year_added'] = df['date_added'].dt.year\n",
        "df['month_added'] = df['date_added'].dt.month\n",
        "\n",
        "df['season_count'] = df.apply(lambda x : x['duration'].split(\" \")[0] if \"Season\" in x['duration'] else \"\", axis = 1)\n",
        "df['duration'] = df.apply(lambda x : x['duration'].split(\" \")[0] if \"Season\" not in x['duration'] else \"\", axis = 1)\n"
      ],
      "execution_count": 0,
      "outputs": []
    },
    {
      "cell_type": "code",
      "metadata": {
        "id": "-w_tc43q5vEg",
        "colab_type": "code",
        "colab": {}
      },
      "source": [
        "# Necessary Functions for the Pie chart: \n",
        "\n",
        "\n",
        "def pie_plot(labels, values, colors, title):\n",
        "    fig = {\n",
        "      \"data\": [\n",
        "        {\n",
        "          \"values\": values,\n",
        "          \"labels\": labels,\n",
        "          \"domain\": {\"x\": [0, .48]},\n",
        "          \"name\": \"Job Type\",\n",
        "          \"sort\": False,\n",
        "          \"marker\": {'colors': colors},\n",
        "          \"textinfo\":\"percent+label+value\",\n",
        "          \"textfont\": {'color': '#FFFFFF', 'size': 12},\n",
        "          \"hole\": .6,\n",
        "          \"type\": \"pie\"\n",
        "        } ],\n",
        "        \"layout\": {\n",
        "            \"title\":title,\n",
        "            \"annotations\": [\n",
        "                {\n",
        "                    \"font\": {\n",
        "                        \"size\": 30,\n",
        "\n",
        "                    },\n",
        "                    \"showarrow\": False,\n",
        "                    \"text\": \"\"\n",
        "\n",
        "                }\n",
        "            ]\n",
        "        }\n",
        "    }\n",
        "    return fig\n"
      ],
      "execution_count": 0,
      "outputs": []
    },
    {
      "cell_type": "code",
      "metadata": {
        "id": "aEUa7iJs5y-a",
        "colab_type": "code",
        "outputId": "ecbd1e6b-4793-4490-e943-b116b4cf11e1",
        "colab": {
          "base_uri": "https://localhost:8080/",
          "height": 542
        }
      },
      "source": [
        "# Content Type on Netflix\n",
        "\n",
        "value_counts = df['type'].value_counts()\n",
        "labels = value_counts.index.tolist()\n",
        "py.iplot(pie_plot(labels, value_counts,['#141ad9', '#de7882'], \"Type Distribution\"))"
      ],
      "execution_count": 28,
      "outputs": [
        {
          "output_type": "display_data",
          "data": {
            "text/html": [
              "<html>\n",
              "<head><meta charset=\"utf-8\" /></head>\n",
              "<body>\n",
              "    <div>\n",
              "            <script src=\"https://cdnjs.cloudflare.com/ajax/libs/mathjax/2.7.5/MathJax.js?config=TeX-AMS-MML_SVG\"></script><script type=\"text/javascript\">if (window.MathJax) {MathJax.Hub.Config({SVG: {font: \"STIX-Web\"}});}</script>\n",
              "                <script type=\"text/javascript\">window.PlotlyConfig = {MathJaxConfig: 'local'};</script>\n",
              "        <script src=\"https://cdn.plot.ly/plotly-latest.min.js\"></script>    \n",
              "            <div id=\"6e380d8e-e17a-4281-a126-50896a41ab43\" class=\"plotly-graph-div\" style=\"height:525px; width:100%;\"></div>\n",
              "            <script type=\"text/javascript\">\n",
              "                \n",
              "                    window.PLOTLYENV=window.PLOTLYENV || {};\n",
              "                    \n",
              "                if (document.getElementById(\"6e380d8e-e17a-4281-a126-50896a41ab43\")) {\n",
              "                    Plotly.newPlot(\n",
              "                        '6e380d8e-e17a-4281-a126-50896a41ab43',\n",
              "                        [{\"domain\": {\"x\": [0, 0.48]}, \"hole\": 0.6, \"labels\": [\"Movie\", \"TV Show\"], \"marker\": {\"colors\": [\"#141ad9\", \"#de7882\"]}, \"name\": \"Job Type\", \"sort\": false, \"textfont\": {\"color\": \"#FFFFFF\", \"size\": 12}, \"textinfo\": \"percent+label+value\", \"type\": \"pie\", \"values\": [4265, 1969]}],\n",
              "                        {\"annotations\": [{\"font\": {\"size\": 30}, \"showarrow\": false, \"text\": \"\"}], \"template\": {\"data\": {\"bar\": [{\"error_x\": {\"color\": \"#2a3f5f\"}, \"error_y\": {\"color\": \"#2a3f5f\"}, \"marker\": {\"line\": {\"color\": \"#E5ECF6\", \"width\": 0.5}}, \"type\": \"bar\"}], \"barpolar\": [{\"marker\": {\"line\": {\"color\": \"#E5ECF6\", \"width\": 0.5}}, \"type\": \"barpolar\"}], \"carpet\": [{\"aaxis\": {\"endlinecolor\": \"#2a3f5f\", \"gridcolor\": \"white\", \"linecolor\": \"white\", \"minorgridcolor\": \"white\", \"startlinecolor\": \"#2a3f5f\"}, \"baxis\": {\"endlinecolor\": \"#2a3f5f\", \"gridcolor\": \"white\", \"linecolor\": \"white\", \"minorgridcolor\": \"white\", \"startlinecolor\": \"#2a3f5f\"}, \"type\": \"carpet\"}], \"choropleth\": [{\"colorbar\": {\"outlinewidth\": 0, \"ticks\": \"\"}, \"type\": \"choropleth\"}], \"contour\": [{\"colorbar\": {\"outlinewidth\": 0, \"ticks\": \"\"}, \"colorscale\": [[0.0, \"#0d0887\"], [0.1111111111111111, \"#46039f\"], [0.2222222222222222, \"#7201a8\"], [0.3333333333333333, \"#9c179e\"], [0.4444444444444444, \"#bd3786\"], [0.5555555555555556, \"#d8576b\"], [0.6666666666666666, \"#ed7953\"], [0.7777777777777778, \"#fb9f3a\"], [0.8888888888888888, \"#fdca26\"], [1.0, \"#f0f921\"]], \"type\": \"contour\"}], \"contourcarpet\": [{\"colorbar\": {\"outlinewidth\": 0, \"ticks\": \"\"}, \"type\": \"contourcarpet\"}], \"heatmap\": [{\"colorbar\": {\"outlinewidth\": 0, \"ticks\": \"\"}, \"colorscale\": [[0.0, \"#0d0887\"], [0.1111111111111111, \"#46039f\"], [0.2222222222222222, \"#7201a8\"], [0.3333333333333333, \"#9c179e\"], [0.4444444444444444, \"#bd3786\"], [0.5555555555555556, \"#d8576b\"], [0.6666666666666666, \"#ed7953\"], [0.7777777777777778, \"#fb9f3a\"], [0.8888888888888888, \"#fdca26\"], [1.0, \"#f0f921\"]], \"type\": \"heatmap\"}], \"heatmapgl\": [{\"colorbar\": {\"outlinewidth\": 0, \"ticks\": \"\"}, \"colorscale\": [[0.0, \"#0d0887\"], [0.1111111111111111, \"#46039f\"], [0.2222222222222222, \"#7201a8\"], [0.3333333333333333, \"#9c179e\"], [0.4444444444444444, \"#bd3786\"], [0.5555555555555556, \"#d8576b\"], [0.6666666666666666, \"#ed7953\"], [0.7777777777777778, \"#fb9f3a\"], [0.8888888888888888, \"#fdca26\"], [1.0, \"#f0f921\"]], \"type\": \"heatmapgl\"}], \"histogram\": [{\"marker\": {\"colorbar\": {\"outlinewidth\": 0, \"ticks\": \"\"}}, \"type\": \"histogram\"}], \"histogram2d\": [{\"colorbar\": {\"outlinewidth\": 0, \"ticks\": \"\"}, \"colorscale\": [[0.0, \"#0d0887\"], [0.1111111111111111, \"#46039f\"], [0.2222222222222222, \"#7201a8\"], [0.3333333333333333, \"#9c179e\"], [0.4444444444444444, \"#bd3786\"], [0.5555555555555556, \"#d8576b\"], [0.6666666666666666, \"#ed7953\"], [0.7777777777777778, \"#fb9f3a\"], [0.8888888888888888, \"#fdca26\"], [1.0, \"#f0f921\"]], \"type\": \"histogram2d\"}], \"histogram2dcontour\": [{\"colorbar\": {\"outlinewidth\": 0, \"ticks\": \"\"}, \"colorscale\": [[0.0, \"#0d0887\"], [0.1111111111111111, \"#46039f\"], [0.2222222222222222, \"#7201a8\"], [0.3333333333333333, \"#9c179e\"], [0.4444444444444444, \"#bd3786\"], [0.5555555555555556, \"#d8576b\"], [0.6666666666666666, \"#ed7953\"], [0.7777777777777778, \"#fb9f3a\"], [0.8888888888888888, \"#fdca26\"], [1.0, \"#f0f921\"]], \"type\": \"histogram2dcontour\"}], \"mesh3d\": [{\"colorbar\": {\"outlinewidth\": 0, \"ticks\": \"\"}, \"type\": \"mesh3d\"}], \"parcoords\": [{\"line\": {\"colorbar\": {\"outlinewidth\": 0, \"ticks\": \"\"}}, \"type\": \"parcoords\"}], \"pie\": [{\"automargin\": true, \"type\": \"pie\"}], \"scatter\": [{\"marker\": {\"colorbar\": {\"outlinewidth\": 0, \"ticks\": \"\"}}, \"type\": \"scatter\"}], \"scatter3d\": [{\"line\": {\"colorbar\": {\"outlinewidth\": 0, \"ticks\": \"\"}}, \"marker\": {\"colorbar\": {\"outlinewidth\": 0, \"ticks\": \"\"}}, \"type\": \"scatter3d\"}], \"scattercarpet\": [{\"marker\": {\"colorbar\": {\"outlinewidth\": 0, \"ticks\": \"\"}}, \"type\": \"scattercarpet\"}], \"scattergeo\": [{\"marker\": {\"colorbar\": {\"outlinewidth\": 0, \"ticks\": \"\"}}, \"type\": \"scattergeo\"}], \"scattergl\": [{\"marker\": {\"colorbar\": {\"outlinewidth\": 0, \"ticks\": \"\"}}, \"type\": \"scattergl\"}], \"scattermapbox\": [{\"marker\": {\"colorbar\": {\"outlinewidth\": 0, \"ticks\": \"\"}}, \"type\": \"scattermapbox\"}], \"scatterpolar\": [{\"marker\": {\"colorbar\": {\"outlinewidth\": 0, \"ticks\": \"\"}}, \"type\": \"scatterpolar\"}], \"scatterpolargl\": [{\"marker\": {\"colorbar\": {\"outlinewidth\": 0, \"ticks\": \"\"}}, \"type\": \"scatterpolargl\"}], \"scatterternary\": [{\"marker\": {\"colorbar\": {\"outlinewidth\": 0, \"ticks\": \"\"}}, \"type\": \"scatterternary\"}], \"surface\": [{\"colorbar\": {\"outlinewidth\": 0, \"ticks\": \"\"}, \"colorscale\": [[0.0, \"#0d0887\"], [0.1111111111111111, \"#46039f\"], [0.2222222222222222, \"#7201a8\"], [0.3333333333333333, \"#9c179e\"], [0.4444444444444444, \"#bd3786\"], [0.5555555555555556, \"#d8576b\"], [0.6666666666666666, \"#ed7953\"], [0.7777777777777778, \"#fb9f3a\"], [0.8888888888888888, \"#fdca26\"], [1.0, \"#f0f921\"]], \"type\": \"surface\"}], \"table\": [{\"cells\": {\"fill\": {\"color\": \"#EBF0F8\"}, \"line\": {\"color\": \"white\"}}, \"header\": {\"fill\": {\"color\": \"#C8D4E3\"}, \"line\": {\"color\": \"white\"}}, \"type\": \"table\"}]}, \"layout\": {\"annotationdefaults\": {\"arrowcolor\": \"#2a3f5f\", \"arrowhead\": 0, \"arrowwidth\": 1}, \"coloraxis\": {\"colorbar\": {\"outlinewidth\": 0, \"ticks\": \"\"}}, \"colorscale\": {\"diverging\": [[0, \"#8e0152\"], [0.1, \"#c51b7d\"], [0.2, \"#de77ae\"], [0.3, \"#f1b6da\"], [0.4, \"#fde0ef\"], [0.5, \"#f7f7f7\"], [0.6, \"#e6f5d0\"], [0.7, \"#b8e186\"], [0.8, \"#7fbc41\"], [0.9, \"#4d9221\"], [1, \"#276419\"]], \"sequential\": [[0.0, \"#0d0887\"], [0.1111111111111111, \"#46039f\"], [0.2222222222222222, \"#7201a8\"], [0.3333333333333333, \"#9c179e\"], [0.4444444444444444, \"#bd3786\"], [0.5555555555555556, \"#d8576b\"], [0.6666666666666666, \"#ed7953\"], [0.7777777777777778, \"#fb9f3a\"], [0.8888888888888888, \"#fdca26\"], [1.0, \"#f0f921\"]], \"sequentialminus\": [[0.0, \"#0d0887\"], [0.1111111111111111, \"#46039f\"], [0.2222222222222222, \"#7201a8\"], [0.3333333333333333, \"#9c179e\"], [0.4444444444444444, \"#bd3786\"], [0.5555555555555556, \"#d8576b\"], [0.6666666666666666, \"#ed7953\"], [0.7777777777777778, \"#fb9f3a\"], [0.8888888888888888, \"#fdca26\"], [1.0, \"#f0f921\"]]}, \"colorway\": [\"#636efa\", \"#EF553B\", \"#00cc96\", \"#ab63fa\", \"#FFA15A\", \"#19d3f3\", \"#FF6692\", \"#B6E880\", \"#FF97FF\", \"#FECB52\"], \"font\": {\"color\": \"#2a3f5f\"}, \"geo\": {\"bgcolor\": \"white\", \"lakecolor\": \"white\", \"landcolor\": \"#E5ECF6\", \"showlakes\": true, \"showland\": true, \"subunitcolor\": \"white\"}, \"hoverlabel\": {\"align\": \"left\"}, \"hovermode\": \"closest\", \"mapbox\": {\"style\": \"light\"}, \"paper_bgcolor\": \"white\", \"plot_bgcolor\": \"#E5ECF6\", \"polar\": {\"angularaxis\": {\"gridcolor\": \"white\", \"linecolor\": \"white\", \"ticks\": \"\"}, \"bgcolor\": \"#E5ECF6\", \"radialaxis\": {\"gridcolor\": \"white\", \"linecolor\": \"white\", \"ticks\": \"\"}}, \"scene\": {\"xaxis\": {\"backgroundcolor\": \"#E5ECF6\", \"gridcolor\": \"white\", \"gridwidth\": 2, \"linecolor\": \"white\", \"showbackground\": true, \"ticks\": \"\", \"zerolinecolor\": \"white\"}, \"yaxis\": {\"backgroundcolor\": \"#E5ECF6\", \"gridcolor\": \"white\", \"gridwidth\": 2, \"linecolor\": \"white\", \"showbackground\": true, \"ticks\": \"\", \"zerolinecolor\": \"white\"}, \"zaxis\": {\"backgroundcolor\": \"#E5ECF6\", \"gridcolor\": \"white\", \"gridwidth\": 2, \"linecolor\": \"white\", \"showbackground\": true, \"ticks\": \"\", \"zerolinecolor\": \"white\"}}, \"shapedefaults\": {\"line\": {\"color\": \"#2a3f5f\"}}, \"ternary\": {\"aaxis\": {\"gridcolor\": \"white\", \"linecolor\": \"white\", \"ticks\": \"\"}, \"baxis\": {\"gridcolor\": \"white\", \"linecolor\": \"white\", \"ticks\": \"\"}, \"bgcolor\": \"#E5ECF6\", \"caxis\": {\"gridcolor\": \"white\", \"linecolor\": \"white\", \"ticks\": \"\"}}, \"title\": {\"x\": 0.05}, \"xaxis\": {\"automargin\": true, \"gridcolor\": \"white\", \"linecolor\": \"white\", \"ticks\": \"\", \"title\": {\"standoff\": 15}, \"zerolinecolor\": \"white\", \"zerolinewidth\": 2}, \"yaxis\": {\"automargin\": true, \"gridcolor\": \"white\", \"linecolor\": \"white\", \"ticks\": \"\", \"title\": {\"standoff\": 15}, \"zerolinecolor\": \"white\", \"zerolinewidth\": 2}}}, \"title\": {\"text\": \"Type Distribution\"}},\n",
              "                        {\"responsive\": true}\n",
              "                    ).then(function(){\n",
              "                            \n",
              "var gd = document.getElementById('6e380d8e-e17a-4281-a126-50896a41ab43');\n",
              "var x = new MutationObserver(function (mutations, observer) {{\n",
              "        var display = window.getComputedStyle(gd).display;\n",
              "        if (!display || display === 'none') {{\n",
              "            console.log([gd, 'removed!']);\n",
              "            Plotly.purge(gd);\n",
              "            observer.disconnect();\n",
              "        }}\n",
              "}});\n",
              "\n",
              "// Listen for the removal of the full notebook cells\n",
              "var notebookContainer = gd.closest('#notebook-container');\n",
              "if (notebookContainer) {{\n",
              "    x.observe(notebookContainer, {childList: true});\n",
              "}}\n",
              "\n",
              "// Listen for the clearing of the current output cell\n",
              "var outputEl = gd.closest('.output');\n",
              "if (outputEl) {{\n",
              "    x.observe(outputEl, {childList: true});\n",
              "}}\n",
              "\n",
              "                        })\n",
              "                };\n",
              "                \n",
              "            </script>\n",
              "        </div>\n",
              "</body>\n",
              "</html>"
            ]
          },
          "metadata": {
            "tags": []
          }
        }
      ]
    },
    {
      "cell_type": "code",
      "metadata": {
        "id": "oDkMfn175n1y",
        "colab_type": "code",
        "outputId": "8acf8b3a-65b2-4755-b32b-9c5b5bddbb0a",
        "colab": {
          "base_uri": "https://localhost:8080/",
          "height": 542
        }
      },
      "source": [
        "#Content added in Netflix for TV Shows and Movies over the years\n",
        "\n",
        "\n",
        "column = \"year_added\"\n",
        "\n",
        "\n",
        "DataType1 = df[df[\"type\"] == \"TV Show\"]\n",
        "DataType2 = df[df[\"type\"] == \"Movie\"]\n",
        "\n",
        "value_count_1 = DataType1[column].value_counts().reset_index()\n",
        "value_count_1 = value_count_1.rename(columns = {column : \"count\", \"index\" : column})\n",
        "value_count_1['percent'] = value_count_1['count'].apply(lambda x : 100*x/sum(value_count_1['count']))\n",
        "value_count_1 = value_count_1.sort_values(column)\n",
        "\n",
        "value_count_2 = DataType2[column].value_counts().reset_index()\n",
        "value_count_2 = value_count_2.rename(columns = {column : \"count\", \"index\" : column})\n",
        "value_count_2['percent'] = value_count_2['count'].apply(lambda x : 100*x/sum(value_count_2['count']))\n",
        "value_count_2 = value_count_2.sort_values(column)\n",
        "\n",
        "trace1 = go.Scatter(x=value_count_1[column], y=value_count_1[\"count\"], name=\"TV Shows in Netflix\", marker=dict(color=\"#141ad9\"))\n",
        "trace2 = go.Scatter(x=value_count_2[column], y=value_count_2[\"count\"], name=\"Movies in Netflix\", marker=dict(color=\"#de7882\"))\n",
        "data = [trace1, trace2]\n",
        "layout = go.Layout(title=\"The growth of Netflix's library over the years for TV Shows and Movies\", legend=dict(x=0.1, y=1.1, orientation=\"h\"))\n",
        "fig = go.Figure(data, layout=layout)\n",
        "fig.show()"
      ],
      "execution_count": 29,
      "outputs": [
        {
          "output_type": "display_data",
          "data": {
            "text/html": [
              "<html>\n",
              "<head><meta charset=\"utf-8\" /></head>\n",
              "<body>\n",
              "    <div>\n",
              "            <script src=\"https://cdnjs.cloudflare.com/ajax/libs/mathjax/2.7.5/MathJax.js?config=TeX-AMS-MML_SVG\"></script><script type=\"text/javascript\">if (window.MathJax) {MathJax.Hub.Config({SVG: {font: \"STIX-Web\"}});}</script>\n",
              "                <script type=\"text/javascript\">window.PlotlyConfig = {MathJaxConfig: 'local'};</script>\n",
              "        <script src=\"https://cdn.plot.ly/plotly-latest.min.js\"></script>    \n",
              "            <div id=\"2fe09216-f5ba-49dd-ad1c-ff4c61067e99\" class=\"plotly-graph-div\" style=\"height:525px; width:100%;\"></div>\n",
              "            <script type=\"text/javascript\">\n",
              "                \n",
              "                    window.PLOTLYENV=window.PLOTLYENV || {};\n",
              "                    \n",
              "                if (document.getElementById(\"2fe09216-f5ba-49dd-ad1c-ff4c61067e99\")) {\n",
              "                    Plotly.newPlot(\n",
              "                        '2fe09216-f5ba-49dd-ad1c-ff4c61067e99',\n",
              "                        [{\"marker\": {\"color\": \"#141ad9\"}, \"name\": \"TV Shows in Netflix\", \"type\": \"scatter\", \"x\": [2008.0, 2012.0, 2013.0, 2014.0, 2015.0, 2016.0, 2017.0, 2018.0, 2019.0, 2020.0], \"y\": [1, 3, 6, 6, 32, 192, 387, 492, 803, 37]}, {\"marker\": {\"color\": \"#de7882\"}, \"name\": \"Movies in Netflix\", \"type\": \"scatter\", \"x\": [2008.0, 2009.0, 2010.0, 2011.0, 2012.0, 2013.0, 2014.0, 2015.0, 2016.0, 2017.0, 2018.0, 2019.0, 2020.0], \"y\": [1, 2, 1, 13, 4, 6, 19, 58, 264, 913, 1290, 1546, 147]}],\n",
              "                        {\"legend\": {\"orientation\": \"h\", \"x\": 0.1, \"y\": 1.1}, \"template\": {\"data\": {\"bar\": [{\"error_x\": {\"color\": \"#2a3f5f\"}, \"error_y\": {\"color\": \"#2a3f5f\"}, \"marker\": {\"line\": {\"color\": \"#E5ECF6\", \"width\": 0.5}}, \"type\": \"bar\"}], \"barpolar\": [{\"marker\": {\"line\": {\"color\": \"#E5ECF6\", \"width\": 0.5}}, \"type\": \"barpolar\"}], \"carpet\": [{\"aaxis\": {\"endlinecolor\": \"#2a3f5f\", \"gridcolor\": \"white\", \"linecolor\": \"white\", \"minorgridcolor\": \"white\", \"startlinecolor\": \"#2a3f5f\"}, \"baxis\": {\"endlinecolor\": \"#2a3f5f\", \"gridcolor\": \"white\", \"linecolor\": \"white\", \"minorgridcolor\": \"white\", \"startlinecolor\": \"#2a3f5f\"}, \"type\": \"carpet\"}], \"choropleth\": [{\"colorbar\": {\"outlinewidth\": 0, \"ticks\": \"\"}, \"type\": \"choropleth\"}], \"contour\": [{\"colorbar\": {\"outlinewidth\": 0, \"ticks\": \"\"}, \"colorscale\": [[0.0, \"#0d0887\"], [0.1111111111111111, \"#46039f\"], [0.2222222222222222, \"#7201a8\"], [0.3333333333333333, \"#9c179e\"], [0.4444444444444444, \"#bd3786\"], [0.5555555555555556, \"#d8576b\"], [0.6666666666666666, \"#ed7953\"], [0.7777777777777778, \"#fb9f3a\"], [0.8888888888888888, \"#fdca26\"], [1.0, \"#f0f921\"]], \"type\": \"contour\"}], \"contourcarpet\": [{\"colorbar\": {\"outlinewidth\": 0, \"ticks\": \"\"}, \"type\": \"contourcarpet\"}], \"heatmap\": [{\"colorbar\": {\"outlinewidth\": 0, \"ticks\": \"\"}, \"colorscale\": [[0.0, \"#0d0887\"], [0.1111111111111111, \"#46039f\"], [0.2222222222222222, \"#7201a8\"], [0.3333333333333333, \"#9c179e\"], [0.4444444444444444, \"#bd3786\"], [0.5555555555555556, \"#d8576b\"], [0.6666666666666666, \"#ed7953\"], [0.7777777777777778, \"#fb9f3a\"], [0.8888888888888888, \"#fdca26\"], [1.0, \"#f0f921\"]], \"type\": \"heatmap\"}], \"heatmapgl\": [{\"colorbar\": {\"outlinewidth\": 0, \"ticks\": \"\"}, \"colorscale\": [[0.0, \"#0d0887\"], [0.1111111111111111, \"#46039f\"], [0.2222222222222222, \"#7201a8\"], [0.3333333333333333, \"#9c179e\"], [0.4444444444444444, \"#bd3786\"], [0.5555555555555556, \"#d8576b\"], [0.6666666666666666, \"#ed7953\"], [0.7777777777777778, \"#fb9f3a\"], [0.8888888888888888, \"#fdca26\"], [1.0, \"#f0f921\"]], \"type\": \"heatmapgl\"}], \"histogram\": [{\"marker\": {\"colorbar\": {\"outlinewidth\": 0, \"ticks\": \"\"}}, \"type\": \"histogram\"}], \"histogram2d\": [{\"colorbar\": {\"outlinewidth\": 0, \"ticks\": \"\"}, \"colorscale\": [[0.0, \"#0d0887\"], [0.1111111111111111, \"#46039f\"], [0.2222222222222222, \"#7201a8\"], [0.3333333333333333, \"#9c179e\"], [0.4444444444444444, \"#bd3786\"], [0.5555555555555556, \"#d8576b\"], [0.6666666666666666, \"#ed7953\"], [0.7777777777777778, \"#fb9f3a\"], [0.8888888888888888, \"#fdca26\"], [1.0, \"#f0f921\"]], \"type\": \"histogram2d\"}], \"histogram2dcontour\": [{\"colorbar\": {\"outlinewidth\": 0, \"ticks\": \"\"}, \"colorscale\": [[0.0, \"#0d0887\"], [0.1111111111111111, \"#46039f\"], [0.2222222222222222, \"#7201a8\"], [0.3333333333333333, \"#9c179e\"], [0.4444444444444444, \"#bd3786\"], [0.5555555555555556, \"#d8576b\"], [0.6666666666666666, \"#ed7953\"], [0.7777777777777778, \"#fb9f3a\"], [0.8888888888888888, \"#fdca26\"], [1.0, \"#f0f921\"]], \"type\": \"histogram2dcontour\"}], \"mesh3d\": [{\"colorbar\": {\"outlinewidth\": 0, \"ticks\": \"\"}, \"type\": \"mesh3d\"}], \"parcoords\": [{\"line\": {\"colorbar\": {\"outlinewidth\": 0, \"ticks\": \"\"}}, \"type\": \"parcoords\"}], \"pie\": [{\"automargin\": true, \"type\": \"pie\"}], \"scatter\": [{\"marker\": {\"colorbar\": {\"outlinewidth\": 0, \"ticks\": \"\"}}, \"type\": \"scatter\"}], \"scatter3d\": [{\"line\": {\"colorbar\": {\"outlinewidth\": 0, \"ticks\": \"\"}}, \"marker\": {\"colorbar\": {\"outlinewidth\": 0, \"ticks\": \"\"}}, \"type\": \"scatter3d\"}], \"scattercarpet\": [{\"marker\": {\"colorbar\": {\"outlinewidth\": 0, \"ticks\": \"\"}}, \"type\": \"scattercarpet\"}], \"scattergeo\": [{\"marker\": {\"colorbar\": {\"outlinewidth\": 0, \"ticks\": \"\"}}, \"type\": \"scattergeo\"}], \"scattergl\": [{\"marker\": {\"colorbar\": {\"outlinewidth\": 0, \"ticks\": \"\"}}, \"type\": \"scattergl\"}], \"scattermapbox\": [{\"marker\": {\"colorbar\": {\"outlinewidth\": 0, \"ticks\": \"\"}}, \"type\": \"scattermapbox\"}], \"scatterpolar\": [{\"marker\": {\"colorbar\": {\"outlinewidth\": 0, \"ticks\": \"\"}}, \"type\": \"scatterpolar\"}], \"scatterpolargl\": [{\"marker\": {\"colorbar\": {\"outlinewidth\": 0, \"ticks\": \"\"}}, \"type\": \"scatterpolargl\"}], \"scatterternary\": [{\"marker\": {\"colorbar\": {\"outlinewidth\": 0, \"ticks\": \"\"}}, \"type\": \"scatterternary\"}], \"surface\": [{\"colorbar\": {\"outlinewidth\": 0, \"ticks\": \"\"}, \"colorscale\": [[0.0, \"#0d0887\"], [0.1111111111111111, \"#46039f\"], [0.2222222222222222, \"#7201a8\"], [0.3333333333333333, \"#9c179e\"], [0.4444444444444444, \"#bd3786\"], [0.5555555555555556, \"#d8576b\"], [0.6666666666666666, \"#ed7953\"], [0.7777777777777778, \"#fb9f3a\"], [0.8888888888888888, \"#fdca26\"], [1.0, \"#f0f921\"]], \"type\": \"surface\"}], \"table\": [{\"cells\": {\"fill\": {\"color\": \"#EBF0F8\"}, \"line\": {\"color\": \"white\"}}, \"header\": {\"fill\": {\"color\": \"#C8D4E3\"}, \"line\": {\"color\": \"white\"}}, \"type\": \"table\"}]}, \"layout\": {\"annotationdefaults\": {\"arrowcolor\": \"#2a3f5f\", \"arrowhead\": 0, \"arrowwidth\": 1}, \"coloraxis\": {\"colorbar\": {\"outlinewidth\": 0, \"ticks\": \"\"}}, \"colorscale\": {\"diverging\": [[0, \"#8e0152\"], [0.1, \"#c51b7d\"], [0.2, \"#de77ae\"], [0.3, \"#f1b6da\"], [0.4, \"#fde0ef\"], [0.5, \"#f7f7f7\"], [0.6, \"#e6f5d0\"], [0.7, \"#b8e186\"], [0.8, \"#7fbc41\"], [0.9, \"#4d9221\"], [1, \"#276419\"]], \"sequential\": [[0.0, \"#0d0887\"], [0.1111111111111111, \"#46039f\"], [0.2222222222222222, \"#7201a8\"], [0.3333333333333333, \"#9c179e\"], [0.4444444444444444, \"#bd3786\"], [0.5555555555555556, \"#d8576b\"], [0.6666666666666666, \"#ed7953\"], [0.7777777777777778, \"#fb9f3a\"], [0.8888888888888888, \"#fdca26\"], [1.0, \"#f0f921\"]], \"sequentialminus\": [[0.0, \"#0d0887\"], [0.1111111111111111, \"#46039f\"], [0.2222222222222222, \"#7201a8\"], [0.3333333333333333, \"#9c179e\"], [0.4444444444444444, \"#bd3786\"], [0.5555555555555556, \"#d8576b\"], [0.6666666666666666, \"#ed7953\"], [0.7777777777777778, \"#fb9f3a\"], [0.8888888888888888, \"#fdca26\"], [1.0, \"#f0f921\"]]}, \"colorway\": [\"#636efa\", \"#EF553B\", \"#00cc96\", \"#ab63fa\", \"#FFA15A\", \"#19d3f3\", \"#FF6692\", \"#B6E880\", \"#FF97FF\", \"#FECB52\"], \"font\": {\"color\": \"#2a3f5f\"}, \"geo\": {\"bgcolor\": \"white\", \"lakecolor\": \"white\", \"landcolor\": \"#E5ECF6\", \"showlakes\": true, \"showland\": true, \"subunitcolor\": \"white\"}, \"hoverlabel\": {\"align\": \"left\"}, \"hovermode\": \"closest\", \"mapbox\": {\"style\": \"light\"}, \"paper_bgcolor\": \"white\", \"plot_bgcolor\": \"#E5ECF6\", \"polar\": {\"angularaxis\": {\"gridcolor\": \"white\", \"linecolor\": \"white\", \"ticks\": \"\"}, \"bgcolor\": \"#E5ECF6\", \"radialaxis\": {\"gridcolor\": \"white\", \"linecolor\": \"white\", \"ticks\": \"\"}}, \"scene\": {\"xaxis\": {\"backgroundcolor\": \"#E5ECF6\", \"gridcolor\": \"white\", \"gridwidth\": 2, \"linecolor\": \"white\", \"showbackground\": true, \"ticks\": \"\", \"zerolinecolor\": \"white\"}, \"yaxis\": {\"backgroundcolor\": \"#E5ECF6\", \"gridcolor\": \"white\", \"gridwidth\": 2, \"linecolor\": \"white\", \"showbackground\": true, \"ticks\": \"\", \"zerolinecolor\": \"white\"}, \"zaxis\": {\"backgroundcolor\": \"#E5ECF6\", \"gridcolor\": \"white\", \"gridwidth\": 2, \"linecolor\": \"white\", \"showbackground\": true, \"ticks\": \"\", \"zerolinecolor\": \"white\"}}, \"shapedefaults\": {\"line\": {\"color\": \"#2a3f5f\"}}, \"ternary\": {\"aaxis\": {\"gridcolor\": \"white\", \"linecolor\": \"white\", \"ticks\": \"\"}, \"baxis\": {\"gridcolor\": \"white\", \"linecolor\": \"white\", \"ticks\": \"\"}, \"bgcolor\": \"#E5ECF6\", \"caxis\": {\"gridcolor\": \"white\", \"linecolor\": \"white\", \"ticks\": \"\"}}, \"title\": {\"x\": 0.05}, \"xaxis\": {\"automargin\": true, \"gridcolor\": \"white\", \"linecolor\": \"white\", \"ticks\": \"\", \"title\": {\"standoff\": 15}, \"zerolinecolor\": \"white\", \"zerolinewidth\": 2}, \"yaxis\": {\"automargin\": true, \"gridcolor\": \"white\", \"linecolor\": \"white\", \"ticks\": \"\", \"title\": {\"standoff\": 15}, \"zerolinecolor\": \"white\", \"zerolinewidth\": 2}}}, \"title\": {\"text\": \"The growth of Netflix's library over the years for TV Shows and Movies\"}},\n",
              "                        {\"responsive\": true}\n",
              "                    ).then(function(){\n",
              "                            \n",
              "var gd = document.getElementById('2fe09216-f5ba-49dd-ad1c-ff4c61067e99');\n",
              "var x = new MutationObserver(function (mutations, observer) {{\n",
              "        var display = window.getComputedStyle(gd).display;\n",
              "        if (!display || display === 'none') {{\n",
              "            console.log([gd, 'removed!']);\n",
              "            Plotly.purge(gd);\n",
              "            observer.disconnect();\n",
              "        }}\n",
              "}});\n",
              "\n",
              "// Listen for the removal of the full notebook cells\n",
              "var notebookContainer = gd.closest('#notebook-container');\n",
              "if (notebookContainer) {{\n",
              "    x.observe(notebookContainer, {childList: true});\n",
              "}}\n",
              "\n",
              "// Listen for the clearing of the current output cell\n",
              "var outputEl = gd.closest('.output');\n",
              "if (outputEl) {{\n",
              "    x.observe(outputEl, {childList: true});\n",
              "}}\n",
              "\n",
              "                        })\n",
              "                };\n",
              "                \n",
              "            </script>\n",
              "        </div>\n",
              "</body>\n",
              "</html>"
            ]
          },
          "metadata": {
            "tags": []
          }
        }
      ]
    },
    {
      "cell_type": "code",
      "metadata": {
        "id": "tiNpXWIX9HYC",
        "colab_type": "code",
        "outputId": "dc36c1a8-c01f-41c3-a6d0-7fb5324f1208",
        "colab": {
          "base_uri": "https://localhost:8080/",
          "height": 542
        }
      },
      "source": [
        "#The ratings of the content for TV shows and Movies\n",
        "\n",
        "column = \"rating\"\n",
        "\n",
        "DataType1 = df[df[\"type\"] == \"TV Show\"]\n",
        "DataType2 = df[df[\"type\"] == \"Movie\"]\n",
        "\n",
        "value_count_1 = DataType1[column].value_counts().reset_index()\n",
        "value_count_1 = value_count_1.rename(columns = {column : \"count\", \"index\" : column})\n",
        "value_count_1['percent'] = value_count_1['count'].apply(lambda x : 100*x/sum(value_count_1['count']))\n",
        "value_count_1 = value_count_1.sort_values(column)\n",
        "\n",
        "value_count_2 = DataType2[column].value_counts().reset_index()\n",
        "value_count_2 = value_count_2.rename(columns = {column : \"count\", \"index\" : column})\n",
        "value_count_2['percent'] = value_count_2['count'].apply(lambda x : 100*x/sum(value_count_2['count']))\n",
        "value_count_2 = value_count_2.sort_values(column)\n",
        "\n",
        "trace1 = go.Bar(x=value_count_1[column], y=value_count_1[\"count\"], name=\"TV Shows in Netflix\", marker=dict(color=\"#141ad9\"))\n",
        "trace2 = go.Bar(x=value_count_2[column], y=value_count_2[\"count\"], name=\"Movies in Netflix\", marker=dict(color=\"#de7882\"))\n",
        "data = [trace1, trace2]\n",
        "layout = go.Layout(title=\"The ratings of the content for TV shows and Movies\", legend=dict(x=0.1, y=1.1, orientation=\"h\"))\n",
        "fig = go.Figure(data, layout=layout)\n",
        "fig.show()"
      ],
      "execution_count": 31,
      "outputs": [
        {
          "output_type": "display_data",
          "data": {
            "text/html": [
              "<html>\n",
              "<head><meta charset=\"utf-8\" /></head>\n",
              "<body>\n",
              "    <div>\n",
              "            <script src=\"https://cdnjs.cloudflare.com/ajax/libs/mathjax/2.7.5/MathJax.js?config=TeX-AMS-MML_SVG\"></script><script type=\"text/javascript\">if (window.MathJax) {MathJax.Hub.Config({SVG: {font: \"STIX-Web\"}});}</script>\n",
              "                <script type=\"text/javascript\">window.PlotlyConfig = {MathJaxConfig: 'local'};</script>\n",
              "        <script src=\"https://cdn.plot.ly/plotly-latest.min.js\"></script>    \n",
              "            <div id=\"07273d89-b0dc-40b0-acd2-38de821206cb\" class=\"plotly-graph-div\" style=\"height:525px; width:100%;\"></div>\n",
              "            <script type=\"text/javascript\">\n",
              "                \n",
              "                    window.PLOTLYENV=window.PLOTLYENV || {};\n",
              "                    \n",
              "                if (document.getElementById(\"07273d89-b0dc-40b0-acd2-38de821206cb\")) {\n",
              "                    Plotly.newPlot(\n",
              "                        '07273d89-b0dc-40b0-acd2-38de821206cb',\n",
              "                        [{\"marker\": {\"color\": \"#141ad9\"}, \"name\": \"TV Shows in Netflix\", \"type\": \"bar\", \"x\": [\"G\", \"NR\", \"PG\", \"R\", \"TV-14\", \"TV-G\", \"TV-MA\", \"TV-PG\", \"TV-Y\", \"TV-Y7\", \"TV-Y7-FV\"], \"y\": [1, 16, 1, 2, 660, 69, 679, 269, 102, 100, 68]}, {\"marker\": {\"color\": \"#de7882\"}, \"name\": \"Movies in Netflix\", \"type\": \"bar\", \"x\": [\"G\", \"NC-17\", \"NR\", \"PG\", \"PG-13\", \"R\", \"TV-14\", \"TV-G\", \"TV-MA\", \"TV-PG\", \"TV-Y\", \"TV-Y7\", \"TV-Y7-FV\", \"UR\"], \"y\": [36, 2, 202, 183, 286, 506, 1038, 80, 1348, 432, 41, 69, 27, 7]}],\n",
              "                        {\"legend\": {\"orientation\": \"h\", \"x\": 0.1, \"y\": 1.1}, \"template\": {\"data\": {\"bar\": [{\"error_x\": {\"color\": \"#2a3f5f\"}, \"error_y\": {\"color\": \"#2a3f5f\"}, \"marker\": {\"line\": {\"color\": \"#E5ECF6\", \"width\": 0.5}}, \"type\": \"bar\"}], \"barpolar\": [{\"marker\": {\"line\": {\"color\": \"#E5ECF6\", \"width\": 0.5}}, \"type\": \"barpolar\"}], \"carpet\": [{\"aaxis\": {\"endlinecolor\": \"#2a3f5f\", \"gridcolor\": \"white\", \"linecolor\": \"white\", \"minorgridcolor\": \"white\", \"startlinecolor\": \"#2a3f5f\"}, \"baxis\": {\"endlinecolor\": \"#2a3f5f\", \"gridcolor\": \"white\", \"linecolor\": \"white\", \"minorgridcolor\": \"white\", \"startlinecolor\": \"#2a3f5f\"}, \"type\": \"carpet\"}], \"choropleth\": [{\"colorbar\": {\"outlinewidth\": 0, \"ticks\": \"\"}, \"type\": \"choropleth\"}], \"contour\": [{\"colorbar\": {\"outlinewidth\": 0, \"ticks\": \"\"}, \"colorscale\": [[0.0, \"#0d0887\"], [0.1111111111111111, \"#46039f\"], [0.2222222222222222, \"#7201a8\"], [0.3333333333333333, \"#9c179e\"], [0.4444444444444444, \"#bd3786\"], [0.5555555555555556, \"#d8576b\"], [0.6666666666666666, \"#ed7953\"], [0.7777777777777778, \"#fb9f3a\"], [0.8888888888888888, \"#fdca26\"], [1.0, \"#f0f921\"]], \"type\": \"contour\"}], \"contourcarpet\": [{\"colorbar\": {\"outlinewidth\": 0, \"ticks\": \"\"}, \"type\": \"contourcarpet\"}], \"heatmap\": [{\"colorbar\": {\"outlinewidth\": 0, \"ticks\": \"\"}, \"colorscale\": [[0.0, \"#0d0887\"], [0.1111111111111111, \"#46039f\"], [0.2222222222222222, \"#7201a8\"], [0.3333333333333333, \"#9c179e\"], [0.4444444444444444, \"#bd3786\"], [0.5555555555555556, \"#d8576b\"], [0.6666666666666666, \"#ed7953\"], [0.7777777777777778, \"#fb9f3a\"], [0.8888888888888888, \"#fdca26\"], [1.0, \"#f0f921\"]], \"type\": \"heatmap\"}], \"heatmapgl\": [{\"colorbar\": {\"outlinewidth\": 0, \"ticks\": \"\"}, \"colorscale\": [[0.0, \"#0d0887\"], [0.1111111111111111, \"#46039f\"], [0.2222222222222222, \"#7201a8\"], [0.3333333333333333, \"#9c179e\"], [0.4444444444444444, \"#bd3786\"], [0.5555555555555556, \"#d8576b\"], [0.6666666666666666, \"#ed7953\"], [0.7777777777777778, \"#fb9f3a\"], [0.8888888888888888, \"#fdca26\"], [1.0, \"#f0f921\"]], \"type\": \"heatmapgl\"}], \"histogram\": [{\"marker\": {\"colorbar\": {\"outlinewidth\": 0, \"ticks\": \"\"}}, \"type\": \"histogram\"}], \"histogram2d\": [{\"colorbar\": {\"outlinewidth\": 0, \"ticks\": \"\"}, \"colorscale\": [[0.0, \"#0d0887\"], [0.1111111111111111, \"#46039f\"], [0.2222222222222222, \"#7201a8\"], [0.3333333333333333, \"#9c179e\"], [0.4444444444444444, \"#bd3786\"], [0.5555555555555556, \"#d8576b\"], [0.6666666666666666, \"#ed7953\"], [0.7777777777777778, \"#fb9f3a\"], [0.8888888888888888, \"#fdca26\"], [1.0, \"#f0f921\"]], \"type\": \"histogram2d\"}], \"histogram2dcontour\": [{\"colorbar\": {\"outlinewidth\": 0, \"ticks\": \"\"}, \"colorscale\": [[0.0, \"#0d0887\"], [0.1111111111111111, \"#46039f\"], [0.2222222222222222, \"#7201a8\"], [0.3333333333333333, \"#9c179e\"], [0.4444444444444444, \"#bd3786\"], [0.5555555555555556, \"#d8576b\"], [0.6666666666666666, \"#ed7953\"], [0.7777777777777778, \"#fb9f3a\"], [0.8888888888888888, \"#fdca26\"], [1.0, \"#f0f921\"]], \"type\": \"histogram2dcontour\"}], \"mesh3d\": [{\"colorbar\": {\"outlinewidth\": 0, \"ticks\": \"\"}, \"type\": \"mesh3d\"}], \"parcoords\": [{\"line\": {\"colorbar\": {\"outlinewidth\": 0, \"ticks\": \"\"}}, \"type\": \"parcoords\"}], \"pie\": [{\"automargin\": true, \"type\": \"pie\"}], \"scatter\": [{\"marker\": {\"colorbar\": {\"outlinewidth\": 0, \"ticks\": \"\"}}, \"type\": \"scatter\"}], \"scatter3d\": [{\"line\": {\"colorbar\": {\"outlinewidth\": 0, \"ticks\": \"\"}}, \"marker\": {\"colorbar\": {\"outlinewidth\": 0, \"ticks\": \"\"}}, \"type\": \"scatter3d\"}], \"scattercarpet\": [{\"marker\": {\"colorbar\": {\"outlinewidth\": 0, \"ticks\": \"\"}}, \"type\": \"scattercarpet\"}], \"scattergeo\": [{\"marker\": {\"colorbar\": {\"outlinewidth\": 0, \"ticks\": \"\"}}, \"type\": \"scattergeo\"}], \"scattergl\": [{\"marker\": {\"colorbar\": {\"outlinewidth\": 0, \"ticks\": \"\"}}, \"type\": \"scattergl\"}], \"scattermapbox\": [{\"marker\": {\"colorbar\": {\"outlinewidth\": 0, \"ticks\": \"\"}}, \"type\": \"scattermapbox\"}], \"scatterpolar\": [{\"marker\": {\"colorbar\": {\"outlinewidth\": 0, \"ticks\": \"\"}}, \"type\": \"scatterpolar\"}], \"scatterpolargl\": [{\"marker\": {\"colorbar\": {\"outlinewidth\": 0, \"ticks\": \"\"}}, \"type\": \"scatterpolargl\"}], \"scatterternary\": [{\"marker\": {\"colorbar\": {\"outlinewidth\": 0, \"ticks\": \"\"}}, \"type\": \"scatterternary\"}], \"surface\": [{\"colorbar\": {\"outlinewidth\": 0, \"ticks\": \"\"}, \"colorscale\": [[0.0, \"#0d0887\"], [0.1111111111111111, \"#46039f\"], [0.2222222222222222, \"#7201a8\"], [0.3333333333333333, \"#9c179e\"], [0.4444444444444444, \"#bd3786\"], [0.5555555555555556, \"#d8576b\"], [0.6666666666666666, \"#ed7953\"], [0.7777777777777778, \"#fb9f3a\"], [0.8888888888888888, \"#fdca26\"], [1.0, \"#f0f921\"]], \"type\": \"surface\"}], \"table\": [{\"cells\": {\"fill\": {\"color\": \"#EBF0F8\"}, \"line\": {\"color\": \"white\"}}, \"header\": {\"fill\": {\"color\": \"#C8D4E3\"}, \"line\": {\"color\": \"white\"}}, \"type\": \"table\"}]}, \"layout\": {\"annotationdefaults\": {\"arrowcolor\": \"#2a3f5f\", \"arrowhead\": 0, \"arrowwidth\": 1}, \"coloraxis\": {\"colorbar\": {\"outlinewidth\": 0, \"ticks\": \"\"}}, \"colorscale\": {\"diverging\": [[0, \"#8e0152\"], [0.1, \"#c51b7d\"], [0.2, \"#de77ae\"], [0.3, \"#f1b6da\"], [0.4, \"#fde0ef\"], [0.5, \"#f7f7f7\"], [0.6, \"#e6f5d0\"], [0.7, \"#b8e186\"], [0.8, \"#7fbc41\"], [0.9, \"#4d9221\"], [1, \"#276419\"]], \"sequential\": [[0.0, \"#0d0887\"], [0.1111111111111111, \"#46039f\"], [0.2222222222222222, \"#7201a8\"], [0.3333333333333333, \"#9c179e\"], [0.4444444444444444, \"#bd3786\"], [0.5555555555555556, \"#d8576b\"], [0.6666666666666666, \"#ed7953\"], [0.7777777777777778, \"#fb9f3a\"], [0.8888888888888888, \"#fdca26\"], [1.0, \"#f0f921\"]], \"sequentialminus\": [[0.0, \"#0d0887\"], [0.1111111111111111, \"#46039f\"], [0.2222222222222222, \"#7201a8\"], [0.3333333333333333, \"#9c179e\"], [0.4444444444444444, \"#bd3786\"], [0.5555555555555556, \"#d8576b\"], [0.6666666666666666, \"#ed7953\"], [0.7777777777777778, \"#fb9f3a\"], [0.8888888888888888, \"#fdca26\"], [1.0, \"#f0f921\"]]}, \"colorway\": [\"#636efa\", \"#EF553B\", \"#00cc96\", \"#ab63fa\", \"#FFA15A\", \"#19d3f3\", \"#FF6692\", \"#B6E880\", \"#FF97FF\", \"#FECB52\"], \"font\": {\"color\": \"#2a3f5f\"}, \"geo\": {\"bgcolor\": \"white\", \"lakecolor\": \"white\", \"landcolor\": \"#E5ECF6\", \"showlakes\": true, \"showland\": true, \"subunitcolor\": \"white\"}, \"hoverlabel\": {\"align\": \"left\"}, \"hovermode\": \"closest\", \"mapbox\": {\"style\": \"light\"}, \"paper_bgcolor\": \"white\", \"plot_bgcolor\": \"#E5ECF6\", \"polar\": {\"angularaxis\": {\"gridcolor\": \"white\", \"linecolor\": \"white\", \"ticks\": \"\"}, \"bgcolor\": \"#E5ECF6\", \"radialaxis\": {\"gridcolor\": \"white\", \"linecolor\": \"white\", \"ticks\": \"\"}}, \"scene\": {\"xaxis\": {\"backgroundcolor\": \"#E5ECF6\", \"gridcolor\": \"white\", \"gridwidth\": 2, \"linecolor\": \"white\", \"showbackground\": true, \"ticks\": \"\", \"zerolinecolor\": \"white\"}, \"yaxis\": {\"backgroundcolor\": \"#E5ECF6\", \"gridcolor\": \"white\", \"gridwidth\": 2, \"linecolor\": \"white\", \"showbackground\": true, \"ticks\": \"\", \"zerolinecolor\": \"white\"}, \"zaxis\": {\"backgroundcolor\": \"#E5ECF6\", \"gridcolor\": \"white\", \"gridwidth\": 2, \"linecolor\": \"white\", \"showbackground\": true, \"ticks\": \"\", \"zerolinecolor\": \"white\"}}, \"shapedefaults\": {\"line\": {\"color\": \"#2a3f5f\"}}, \"ternary\": {\"aaxis\": {\"gridcolor\": \"white\", \"linecolor\": \"white\", \"ticks\": \"\"}, \"baxis\": {\"gridcolor\": \"white\", \"linecolor\": \"white\", \"ticks\": \"\"}, \"bgcolor\": \"#E5ECF6\", \"caxis\": {\"gridcolor\": \"white\", \"linecolor\": \"white\", \"ticks\": \"\"}}, \"title\": {\"x\": 0.05}, \"xaxis\": {\"automargin\": true, \"gridcolor\": \"white\", \"linecolor\": \"white\", \"ticks\": \"\", \"title\": {\"standoff\": 15}, \"zerolinecolor\": \"white\", \"zerolinewidth\": 2}, \"yaxis\": {\"automargin\": true, \"gridcolor\": \"white\", \"linecolor\": \"white\", \"ticks\": \"\", \"title\": {\"standoff\": 15}, \"zerolinecolor\": \"white\", \"zerolinewidth\": 2}}}, \"title\": {\"text\": \"The ratings of the content for TV shows and Movies\"}},\n",
              "                        {\"responsive\": true}\n",
              "                    ).then(function(){\n",
              "                            \n",
              "var gd = document.getElementById('07273d89-b0dc-40b0-acd2-38de821206cb');\n",
              "var x = new MutationObserver(function (mutations, observer) {{\n",
              "        var display = window.getComputedStyle(gd).display;\n",
              "        if (!display || display === 'none') {{\n",
              "            console.log([gd, 'removed!']);\n",
              "            Plotly.purge(gd);\n",
              "            observer.disconnect();\n",
              "        }}\n",
              "}});\n",
              "\n",
              "// Listen for the removal of the full notebook cells\n",
              "var notebookContainer = gd.closest('#notebook-container');\n",
              "if (notebookContainer) {{\n",
              "    x.observe(notebookContainer, {childList: true});\n",
              "}}\n",
              "\n",
              "// Listen for the clearing of the current output cell\n",
              "var outputEl = gd.closest('.output');\n",
              "if (outputEl) {{\n",
              "    x.observe(outputEl, {childList: true});\n",
              "}}\n",
              "\n",
              "                        })\n",
              "                };\n",
              "                \n",
              "            </script>\n",
              "        </div>\n",
              "</body>\n",
              "</html>"
            ]
          },
          "metadata": {
            "tags": []
          }
        }
      ]
    },
    {
      "cell_type": "code",
      "metadata": {
        "id": "H0Zy4-MW9BSP",
        "colab_type": "code",
        "outputId": "0d67ce22-475f-4c8c-d478-b6d9ed0f8920",
        "colab": {
          "base_uri": "https://localhost:8080/",
          "height": 497
        }
      },
      "source": [
        "#Some of the oldest movies on Netflix\n",
        "\n",
        "\n",
        "oldest_movie = df.sort_values(\"release_year\", ascending = True)\n",
        "oldest_movie = oldest_movie[oldest_movie['duration'] != \"\"]\n",
        "oldest_movie[['title', \"release_year\"]][:15]\n"
      ],
      "execution_count": 32,
      "outputs": [
        {
          "output_type": "execute_result",
          "data": {
            "text/html": [
              "<div>\n",
              "<style scoped>\n",
              "    .dataframe tbody tr th:only-of-type {\n",
              "        vertical-align: middle;\n",
              "    }\n",
              "\n",
              "    .dataframe tbody tr th {\n",
              "        vertical-align: top;\n",
              "    }\n",
              "\n",
              "    .dataframe thead th {\n",
              "        text-align: right;\n",
              "    }\n",
              "</style>\n",
              "<table border=\"1\" class=\"dataframe\">\n",
              "  <thead>\n",
              "    <tr style=\"text-align: right;\">\n",
              "      <th></th>\n",
              "      <th>title</th>\n",
              "      <th>release_year</th>\n",
              "    </tr>\n",
              "  </thead>\n",
              "  <tbody>\n",
              "    <tr>\n",
              "      <th>2011</th>\n",
              "      <td>Prelude to War</td>\n",
              "      <td>1942</td>\n",
              "    </tr>\n",
              "    <tr>\n",
              "      <th>2013</th>\n",
              "      <td>The Battle of Midway</td>\n",
              "      <td>1942</td>\n",
              "    </tr>\n",
              "    <tr>\n",
              "      <th>2022</th>\n",
              "      <td>Undercover: How to Operate Behind Enemy Lines</td>\n",
              "      <td>1943</td>\n",
              "    </tr>\n",
              "    <tr>\n",
              "      <th>2023</th>\n",
              "      <td>Why We Fight: The Battle of Russia</td>\n",
              "      <td>1943</td>\n",
              "    </tr>\n",
              "    <tr>\n",
              "      <th>2026</th>\n",
              "      <td>WWII: Report from the Aleutians</td>\n",
              "      <td>1943</td>\n",
              "    </tr>\n",
              "    <tr>\n",
              "      <th>2017</th>\n",
              "      <td>The Memphis Belle: A Story of a\\nFlying Fortress</td>\n",
              "      <td>1944</td>\n",
              "    </tr>\n",
              "    <tr>\n",
              "      <th>2019</th>\n",
              "      <td>The Negro Soldier</td>\n",
              "      <td>1944</td>\n",
              "    </tr>\n",
              "    <tr>\n",
              "      <th>2021</th>\n",
              "      <td>Tunisian Victory</td>\n",
              "      <td>1944</td>\n",
              "    </tr>\n",
              "    <tr>\n",
              "      <th>2012</th>\n",
              "      <td>San Pietro</td>\n",
              "      <td>1945</td>\n",
              "    </tr>\n",
              "    <tr>\n",
              "      <th>2009</th>\n",
              "      <td>Nazi Concentration Camps</td>\n",
              "      <td>1945</td>\n",
              "    </tr>\n",
              "    <tr>\n",
              "      <th>2005</th>\n",
              "      <td>Know Your Enemy - Japan</td>\n",
              "      <td>1945</td>\n",
              "    </tr>\n",
              "    <tr>\n",
              "      <th>2930</th>\n",
              "      <td>The Stranger</td>\n",
              "      <td>1946</td>\n",
              "    </tr>\n",
              "    <tr>\n",
              "      <th>2006</th>\n",
              "      <td>Let There Be Light</td>\n",
              "      <td>1946</td>\n",
              "    </tr>\n",
              "    <tr>\n",
              "      <th>2020</th>\n",
              "      <td>Thunderbolt</td>\n",
              "      <td>1947</td>\n",
              "    </tr>\n",
              "    <tr>\n",
              "      <th>2981</th>\n",
              "      <td>White Christmas</td>\n",
              "      <td>1954</td>\n",
              "    </tr>\n",
              "  </tbody>\n",
              "</table>\n",
              "</div>"
            ],
            "text/plain": [
              "                                                 title  release_year\n",
              "2011                                    Prelude to War          1942\n",
              "2013                              The Battle of Midway          1942\n",
              "2022     Undercover: How to Operate Behind Enemy Lines          1943\n",
              "2023                Why We Fight: The Battle of Russia          1943\n",
              "2026                   WWII: Report from the Aleutians          1943\n",
              "2017  The Memphis Belle: A Story of a\\nFlying Fortress          1944\n",
              "2019                                 The Negro Soldier          1944\n",
              "2021                                  Tunisian Victory          1944\n",
              "2012                                        San Pietro          1945\n",
              "2009                          Nazi Concentration Camps          1945\n",
              "2005                           Know Your Enemy - Japan          1945\n",
              "2930                                      The Stranger          1946\n",
              "2006                                Let There Be Light          1946\n",
              "2020                                       Thunderbolt          1947\n",
              "2981                                   White Christmas          1954"
            ]
          },
          "metadata": {
            "tags": []
          },
          "execution_count": 32
        }
      ]
    },
    {
      "cell_type": "code",
      "metadata": {
        "id": "EB_RNmLT9FSj",
        "colab_type": "code",
        "outputId": "edf01aa3-47d1-4fe7-94ea-28b4e47e170b",
        "colab": {
          "base_uri": "https://localhost:8080/",
          "height": 497
        }
      },
      "source": [
        "#Some of the oldest TV Shows on Netflix\n",
        "\n",
        "\n",
        "Oldest_TvShow = df.sort_values(\"release_year\", ascending = True)\n",
        "Oldest_TvShow = Oldest_TvShow[Oldest_TvShow['season_count'] != \"\"]\n",
        "Oldest_TvShow[['title', \"release_year\"]][:15]\n"
      ],
      "execution_count": 33,
      "outputs": [
        {
          "output_type": "execute_result",
          "data": {
            "text/html": [
              "<div>\n",
              "<style scoped>\n",
              "    .dataframe tbody tr th:only-of-type {\n",
              "        vertical-align: middle;\n",
              "    }\n",
              "\n",
              "    .dataframe tbody tr th {\n",
              "        vertical-align: top;\n",
              "    }\n",
              "\n",
              "    .dataframe thead th {\n",
              "        text-align: right;\n",
              "    }\n",
              "</style>\n",
              "<table border=\"1\" class=\"dataframe\">\n",
              "  <thead>\n",
              "    <tr style=\"text-align: right;\">\n",
              "      <th></th>\n",
              "      <th>title</th>\n",
              "      <th>release_year</th>\n",
              "    </tr>\n",
              "  </thead>\n",
              "  <tbody>\n",
              "    <tr>\n",
              "      <th>4292</th>\n",
              "      <td>Pioneers: First Women Filmmakers*</td>\n",
              "      <td>1925</td>\n",
              "    </tr>\n",
              "    <tr>\n",
              "      <th>4079</th>\n",
              "      <td>Pioneers of African-American Cinema</td>\n",
              "      <td>1946</td>\n",
              "    </tr>\n",
              "    <tr>\n",
              "      <th>5981</th>\n",
              "      <td>The Twilight Zone (Original Series)</td>\n",
              "      <td>1963</td>\n",
              "    </tr>\n",
              "    <tr>\n",
              "      <th>5980</th>\n",
              "      <td>The Andy Griffith Show</td>\n",
              "      <td>1967</td>\n",
              "    </tr>\n",
              "    <tr>\n",
              "      <th>5704</th>\n",
              "      <td>Star Trek</td>\n",
              "      <td>1968</td>\n",
              "    </tr>\n",
              "    <tr>\n",
              "      <th>614</th>\n",
              "      <td>Monty Python's Fliegender Zirkus</td>\n",
              "      <td>1972</td>\n",
              "    </tr>\n",
              "    <tr>\n",
              "      <th>5669</th>\n",
              "      <td>Monty Python's Flying Circus</td>\n",
              "      <td>1974</td>\n",
              "    </tr>\n",
              "    <tr>\n",
              "      <th>5830</th>\n",
              "      <td>Dad's Army</td>\n",
              "      <td>1977</td>\n",
              "    </tr>\n",
              "    <tr>\n",
              "      <th>4273</th>\n",
              "      <td>El Chavo</td>\n",
              "      <td>1979</td>\n",
              "    </tr>\n",
              "    <tr>\n",
              "      <th>4369</th>\n",
              "      <td>Ninja Hattori</td>\n",
              "      <td>1981</td>\n",
              "    </tr>\n",
              "    <tr>\n",
              "      <th>982</th>\n",
              "      <td>Robotech</td>\n",
              "      <td>1985</td>\n",
              "    </tr>\n",
              "    <tr>\n",
              "      <th>6016</th>\n",
              "      <td>Saint Seiya</td>\n",
              "      <td>1986</td>\n",
              "    </tr>\n",
              "    <tr>\n",
              "      <th>3473</th>\n",
              "      <td>Shaka Zulu</td>\n",
              "      <td>1986</td>\n",
              "    </tr>\n",
              "    <tr>\n",
              "      <th>5774</th>\n",
              "      <td>Highway to Heaven</td>\n",
              "      <td>1988</td>\n",
              "    </tr>\n",
              "    <tr>\n",
              "      <th>369</th>\n",
              "      <td>High Risk</td>\n",
              "      <td>1988</td>\n",
              "    </tr>\n",
              "  </tbody>\n",
              "</table>\n",
              "</div>"
            ],
            "text/plain": [
              "                                    title  release_year\n",
              "4292    Pioneers: First Women Filmmakers*          1925\n",
              "4079  Pioneers of African-American Cinema          1946\n",
              "5981  The Twilight Zone (Original Series)          1963\n",
              "5980               The Andy Griffith Show          1967\n",
              "5704                            Star Trek          1968\n",
              "614      Monty Python's Fliegender Zirkus          1972\n",
              "5669         Monty Python's Flying Circus          1974\n",
              "5830                           Dad's Army          1977\n",
              "4273                             El Chavo          1979\n",
              "4369                        Ninja Hattori          1981\n",
              "982                              Robotech          1985\n",
              "6016                          Saint Seiya          1986\n",
              "3473                           Shaka Zulu          1986\n",
              "5774                    Highway to Heaven          1988\n",
              "369                             High Risk          1988"
            ]
          },
          "metadata": {
            "tags": []
          },
          "execution_count": 33
        }
      ]
    },
    {
      "cell_type": "code",
      "metadata": {
        "id": "Jbbt4KWE9K2O",
        "colab_type": "code",
        "outputId": "7e02367e-c3fc-4131-9754-c4d5400a7316",
        "colab": {
          "base_uri": "https://localhost:8080/",
          "height": 542
        }
      },
      "source": [
        "#Country with the most number of titles for TV Shows and Movies\n",
        "\n",
        "top_work_unitdf = df['country'].value_counts().rename_axis('Country').reset_index(name='counts')[:10]\n",
        "\n",
        "fig = px.bar(top_work_unitdf, y=\"Country\", x='counts', orientation='h', title = \"Country with the most number of titles for TV Shows and Movies\",color=  \"counts\", color_continuous_scale=px.colors.qualitative.Prism).update_yaxes(categoryorder=\"total ascending\")\n",
        "\n",
        "fig.show()\n",
        "\n"
      ],
      "execution_count": 34,
      "outputs": [
        {
          "output_type": "display_data",
          "data": {
            "text/html": [
              "<html>\n",
              "<head><meta charset=\"utf-8\" /></head>\n",
              "<body>\n",
              "    <div>\n",
              "            <script src=\"https://cdnjs.cloudflare.com/ajax/libs/mathjax/2.7.5/MathJax.js?config=TeX-AMS-MML_SVG\"></script><script type=\"text/javascript\">if (window.MathJax) {MathJax.Hub.Config({SVG: {font: \"STIX-Web\"}});}</script>\n",
              "                <script type=\"text/javascript\">window.PlotlyConfig = {MathJaxConfig: 'local'};</script>\n",
              "        <script src=\"https://cdn.plot.ly/plotly-latest.min.js\"></script>    \n",
              "            <div id=\"ac8fd128-3804-460b-9a13-710816e80b9c\" class=\"plotly-graph-div\" style=\"height:525px; width:100%;\"></div>\n",
              "            <script type=\"text/javascript\">\n",
              "                \n",
              "                    window.PLOTLYENV=window.PLOTLYENV || {};\n",
              "                    \n",
              "                if (document.getElementById(\"ac8fd128-3804-460b-9a13-710816e80b9c\")) {\n",
              "                    Plotly.newPlot(\n",
              "                        'ac8fd128-3804-460b-9a13-710816e80b9c',\n",
              "                        [{\"alignmentgroup\": \"True\", \"hoverlabel\": {\"namelength\": 0}, \"hovertemplate\": \"counts=%{marker.color}<br>Country=%{y}\", \"legendgroup\": \"\", \"marker\": {\"color\": [2032, 777, 348, 176, 141, 136, 117, 90, 83, 79], \"coloraxis\": \"coloraxis\"}, \"name\": \"\", \"offsetgroup\": \"\", \"orientation\": \"h\", \"showlegend\": false, \"textposition\": \"auto\", \"type\": \"bar\", \"x\": [2032, 777, 348, 176, 141, 136, 117, 90, 83, 79], \"xaxis\": \"x\", \"y\": [\"United States\", \"India\", \"United Kingdom\", \"Japan\", \"Canada\", \"South Korea\", \"Spain\", \"France\", \"Mexico\", \"Turkey\"], \"yaxis\": \"y\"}],\n",
              "                        {\"barmode\": \"relative\", \"coloraxis\": {\"colorbar\": {\"title\": {\"text\": \"counts\"}}, \"colorscale\": [[0.0, \"rgb(95, 70, 144)\"], [0.1, \"rgb(29, 105, 150)\"], [0.2, \"rgb(56, 166, 165)\"], [0.3, \"rgb(15, 133, 84)\"], [0.4, \"rgb(115, 175, 72)\"], [0.5, \"rgb(237, 173, 8)\"], [0.6, \"rgb(225, 124, 5)\"], [0.7, \"rgb(204, 80, 62)\"], [0.8, \"rgb(148, 52, 110)\"], [0.9, \"rgb(111, 64, 112)\"], [1.0, \"rgb(102, 102, 102)\"]]}, \"legend\": {\"tracegroupgap\": 0}, \"template\": {\"data\": {\"bar\": [{\"error_x\": {\"color\": \"#2a3f5f\"}, \"error_y\": {\"color\": \"#2a3f5f\"}, \"marker\": {\"line\": {\"color\": \"#E5ECF6\", \"width\": 0.5}}, \"type\": \"bar\"}], \"barpolar\": [{\"marker\": {\"line\": {\"color\": \"#E5ECF6\", \"width\": 0.5}}, \"type\": \"barpolar\"}], \"carpet\": [{\"aaxis\": {\"endlinecolor\": \"#2a3f5f\", \"gridcolor\": \"white\", \"linecolor\": \"white\", \"minorgridcolor\": \"white\", \"startlinecolor\": \"#2a3f5f\"}, \"baxis\": {\"endlinecolor\": \"#2a3f5f\", \"gridcolor\": \"white\", \"linecolor\": \"white\", \"minorgridcolor\": \"white\", \"startlinecolor\": \"#2a3f5f\"}, \"type\": \"carpet\"}], \"choropleth\": [{\"colorbar\": {\"outlinewidth\": 0, \"ticks\": \"\"}, \"type\": \"choropleth\"}], \"contour\": [{\"colorbar\": {\"outlinewidth\": 0, \"ticks\": \"\"}, \"colorscale\": [[0.0, \"#0d0887\"], [0.1111111111111111, \"#46039f\"], [0.2222222222222222, \"#7201a8\"], [0.3333333333333333, \"#9c179e\"], [0.4444444444444444, \"#bd3786\"], [0.5555555555555556, \"#d8576b\"], [0.6666666666666666, \"#ed7953\"], [0.7777777777777778, \"#fb9f3a\"], [0.8888888888888888, \"#fdca26\"], [1.0, \"#f0f921\"]], \"type\": \"contour\"}], \"contourcarpet\": [{\"colorbar\": {\"outlinewidth\": 0, \"ticks\": \"\"}, \"type\": \"contourcarpet\"}], \"heatmap\": [{\"colorbar\": {\"outlinewidth\": 0, \"ticks\": \"\"}, \"colorscale\": [[0.0, \"#0d0887\"], [0.1111111111111111, \"#46039f\"], [0.2222222222222222, \"#7201a8\"], [0.3333333333333333, \"#9c179e\"], [0.4444444444444444, \"#bd3786\"], [0.5555555555555556, \"#d8576b\"], [0.6666666666666666, \"#ed7953\"], [0.7777777777777778, \"#fb9f3a\"], [0.8888888888888888, \"#fdca26\"], [1.0, \"#f0f921\"]], \"type\": \"heatmap\"}], \"heatmapgl\": [{\"colorbar\": {\"outlinewidth\": 0, \"ticks\": \"\"}, \"colorscale\": [[0.0, \"#0d0887\"], [0.1111111111111111, \"#46039f\"], [0.2222222222222222, \"#7201a8\"], [0.3333333333333333, \"#9c179e\"], [0.4444444444444444, \"#bd3786\"], [0.5555555555555556, \"#d8576b\"], [0.6666666666666666, \"#ed7953\"], [0.7777777777777778, \"#fb9f3a\"], [0.8888888888888888, \"#fdca26\"], [1.0, \"#f0f921\"]], \"type\": \"heatmapgl\"}], \"histogram\": [{\"marker\": {\"colorbar\": {\"outlinewidth\": 0, \"ticks\": \"\"}}, \"type\": \"histogram\"}], \"histogram2d\": [{\"colorbar\": {\"outlinewidth\": 0, \"ticks\": \"\"}, \"colorscale\": [[0.0, \"#0d0887\"], [0.1111111111111111, \"#46039f\"], [0.2222222222222222, \"#7201a8\"], [0.3333333333333333, \"#9c179e\"], [0.4444444444444444, \"#bd3786\"], [0.5555555555555556, \"#d8576b\"], [0.6666666666666666, \"#ed7953\"], [0.7777777777777778, \"#fb9f3a\"], [0.8888888888888888, \"#fdca26\"], [1.0, \"#f0f921\"]], \"type\": \"histogram2d\"}], \"histogram2dcontour\": [{\"colorbar\": {\"outlinewidth\": 0, \"ticks\": \"\"}, \"colorscale\": [[0.0, \"#0d0887\"], [0.1111111111111111, \"#46039f\"], [0.2222222222222222, \"#7201a8\"], [0.3333333333333333, \"#9c179e\"], [0.4444444444444444, \"#bd3786\"], [0.5555555555555556, \"#d8576b\"], [0.6666666666666666, \"#ed7953\"], [0.7777777777777778, \"#fb9f3a\"], [0.8888888888888888, \"#fdca26\"], [1.0, \"#f0f921\"]], \"type\": \"histogram2dcontour\"}], \"mesh3d\": [{\"colorbar\": {\"outlinewidth\": 0, \"ticks\": \"\"}, \"type\": \"mesh3d\"}], \"parcoords\": [{\"line\": {\"colorbar\": {\"outlinewidth\": 0, \"ticks\": \"\"}}, \"type\": \"parcoords\"}], \"pie\": [{\"automargin\": true, \"type\": \"pie\"}], \"scatter\": [{\"marker\": {\"colorbar\": {\"outlinewidth\": 0, \"ticks\": \"\"}}, \"type\": \"scatter\"}], \"scatter3d\": [{\"line\": {\"colorbar\": {\"outlinewidth\": 0, \"ticks\": \"\"}}, \"marker\": {\"colorbar\": {\"outlinewidth\": 0, \"ticks\": \"\"}}, \"type\": \"scatter3d\"}], \"scattercarpet\": [{\"marker\": {\"colorbar\": {\"outlinewidth\": 0, \"ticks\": \"\"}}, \"type\": \"scattercarpet\"}], \"scattergeo\": [{\"marker\": {\"colorbar\": {\"outlinewidth\": 0, \"ticks\": \"\"}}, \"type\": \"scattergeo\"}], \"scattergl\": [{\"marker\": {\"colorbar\": {\"outlinewidth\": 0, \"ticks\": \"\"}}, \"type\": \"scattergl\"}], \"scattermapbox\": [{\"marker\": {\"colorbar\": {\"outlinewidth\": 0, \"ticks\": \"\"}}, \"type\": \"scattermapbox\"}], \"scatterpolar\": [{\"marker\": {\"colorbar\": {\"outlinewidth\": 0, \"ticks\": \"\"}}, \"type\": \"scatterpolar\"}], \"scatterpolargl\": [{\"marker\": {\"colorbar\": {\"outlinewidth\": 0, \"ticks\": \"\"}}, \"type\": \"scatterpolargl\"}], \"scatterternary\": [{\"marker\": {\"colorbar\": {\"outlinewidth\": 0, \"ticks\": \"\"}}, \"type\": \"scatterternary\"}], \"surface\": [{\"colorbar\": {\"outlinewidth\": 0, \"ticks\": \"\"}, \"colorscale\": [[0.0, \"#0d0887\"], [0.1111111111111111, \"#46039f\"], [0.2222222222222222, \"#7201a8\"], [0.3333333333333333, \"#9c179e\"], [0.4444444444444444, \"#bd3786\"], [0.5555555555555556, \"#d8576b\"], [0.6666666666666666, \"#ed7953\"], [0.7777777777777778, \"#fb9f3a\"], [0.8888888888888888, \"#fdca26\"], [1.0, \"#f0f921\"]], \"type\": \"surface\"}], \"table\": [{\"cells\": {\"fill\": {\"color\": \"#EBF0F8\"}, \"line\": {\"color\": \"white\"}}, \"header\": {\"fill\": {\"color\": \"#C8D4E3\"}, \"line\": {\"color\": \"white\"}}, \"type\": \"table\"}]}, \"layout\": {\"annotationdefaults\": {\"arrowcolor\": \"#2a3f5f\", \"arrowhead\": 0, \"arrowwidth\": 1}, \"coloraxis\": {\"colorbar\": {\"outlinewidth\": 0, \"ticks\": \"\"}}, \"colorscale\": {\"diverging\": [[0, \"#8e0152\"], [0.1, \"#c51b7d\"], [0.2, \"#de77ae\"], [0.3, \"#f1b6da\"], [0.4, \"#fde0ef\"], [0.5, \"#f7f7f7\"], [0.6, \"#e6f5d0\"], [0.7, \"#b8e186\"], [0.8, \"#7fbc41\"], [0.9, \"#4d9221\"], [1, \"#276419\"]], \"sequential\": [[0.0, \"#0d0887\"], [0.1111111111111111, \"#46039f\"], [0.2222222222222222, \"#7201a8\"], [0.3333333333333333, \"#9c179e\"], [0.4444444444444444, \"#bd3786\"], [0.5555555555555556, \"#d8576b\"], [0.6666666666666666, \"#ed7953\"], [0.7777777777777778, \"#fb9f3a\"], [0.8888888888888888, \"#fdca26\"], [1.0, \"#f0f921\"]], \"sequentialminus\": [[0.0, \"#0d0887\"], [0.1111111111111111, \"#46039f\"], [0.2222222222222222, \"#7201a8\"], [0.3333333333333333, \"#9c179e\"], [0.4444444444444444, \"#bd3786\"], [0.5555555555555556, \"#d8576b\"], [0.6666666666666666, \"#ed7953\"], [0.7777777777777778, \"#fb9f3a\"], [0.8888888888888888, \"#fdca26\"], [1.0, \"#f0f921\"]]}, \"colorway\": [\"#636efa\", \"#EF553B\", \"#00cc96\", \"#ab63fa\", \"#FFA15A\", \"#19d3f3\", \"#FF6692\", \"#B6E880\", \"#FF97FF\", \"#FECB52\"], \"font\": {\"color\": \"#2a3f5f\"}, \"geo\": {\"bgcolor\": \"white\", \"lakecolor\": \"white\", \"landcolor\": \"#E5ECF6\", \"showlakes\": true, \"showland\": true, \"subunitcolor\": \"white\"}, \"hoverlabel\": {\"align\": \"left\"}, \"hovermode\": \"closest\", \"mapbox\": {\"style\": \"light\"}, \"paper_bgcolor\": \"white\", \"plot_bgcolor\": \"#E5ECF6\", \"polar\": {\"angularaxis\": {\"gridcolor\": \"white\", \"linecolor\": \"white\", \"ticks\": \"\"}, \"bgcolor\": \"#E5ECF6\", \"radialaxis\": {\"gridcolor\": \"white\", \"linecolor\": \"white\", \"ticks\": \"\"}}, \"scene\": {\"xaxis\": {\"backgroundcolor\": \"#E5ECF6\", \"gridcolor\": \"white\", \"gridwidth\": 2, \"linecolor\": \"white\", \"showbackground\": true, \"ticks\": \"\", \"zerolinecolor\": \"white\"}, \"yaxis\": {\"backgroundcolor\": \"#E5ECF6\", \"gridcolor\": \"white\", \"gridwidth\": 2, \"linecolor\": \"white\", \"showbackground\": true, \"ticks\": \"\", \"zerolinecolor\": \"white\"}, \"zaxis\": {\"backgroundcolor\": \"#E5ECF6\", \"gridcolor\": \"white\", \"gridwidth\": 2, \"linecolor\": \"white\", \"showbackground\": true, \"ticks\": \"\", \"zerolinecolor\": \"white\"}}, \"shapedefaults\": {\"line\": {\"color\": \"#2a3f5f\"}}, \"ternary\": {\"aaxis\": {\"gridcolor\": \"white\", \"linecolor\": \"white\", \"ticks\": \"\"}, \"baxis\": {\"gridcolor\": \"white\", \"linecolor\": \"white\", \"ticks\": \"\"}, \"bgcolor\": \"#E5ECF6\", \"caxis\": {\"gridcolor\": \"white\", \"linecolor\": \"white\", \"ticks\": \"\"}}, \"title\": {\"x\": 0.05}, \"xaxis\": {\"automargin\": true, \"gridcolor\": \"white\", \"linecolor\": \"white\", \"ticks\": \"\", \"title\": {\"standoff\": 15}, \"zerolinecolor\": \"white\", \"zerolinewidth\": 2}, \"yaxis\": {\"automargin\": true, \"gridcolor\": \"white\", \"linecolor\": \"white\", \"ticks\": \"\", \"title\": {\"standoff\": 15}, \"zerolinecolor\": \"white\", \"zerolinewidth\": 2}}}, \"title\": {\"text\": \"Country with the most number of titles for TV Shows and Movies\"}, \"xaxis\": {\"anchor\": \"y\", \"domain\": [0.0, 1.0], \"title\": {\"text\": \"counts\"}}, \"yaxis\": {\"anchor\": \"x\", \"categoryorder\": \"total ascending\", \"domain\": [0.0, 1.0], \"title\": {\"text\": \"Country\"}}},\n",
              "                        {\"responsive\": true}\n",
              "                    ).then(function(){\n",
              "                            \n",
              "var gd = document.getElementById('ac8fd128-3804-460b-9a13-710816e80b9c');\n",
              "var x = new MutationObserver(function (mutations, observer) {{\n",
              "        var display = window.getComputedStyle(gd).display;\n",
              "        if (!display || display === 'none') {{\n",
              "            console.log([gd, 'removed!']);\n",
              "            Plotly.purge(gd);\n",
              "            observer.disconnect();\n",
              "        }}\n",
              "}});\n",
              "\n",
              "// Listen for the removal of the full notebook cells\n",
              "var notebookContainer = gd.closest('#notebook-container');\n",
              "if (notebookContainer) {{\n",
              "    x.observe(notebookContainer, {childList: true});\n",
              "}}\n",
              "\n",
              "// Listen for the clearing of the current output cell\n",
              "var outputEl = gd.closest('.output');\n",
              "if (outputEl) {{\n",
              "    x.observe(outputEl, {childList: true});\n",
              "}}\n",
              "\n",
              "                        })\n",
              "                };\n",
              "                \n",
              "            </script>\n",
              "        </div>\n",
              "</body>\n",
              "</html>"
            ]
          },
          "metadata": {
            "tags": []
          }
        }
      ]
    },
    {
      "cell_type": "code",
      "metadata": {
        "id": "jms0_MeZ984A",
        "colab_type": "code",
        "outputId": "2955d2a0-26db-4054-acb6-22b6f9a271e2",
        "colab": {
          "base_uri": "https://localhost:8080/",
          "height": 484
        }
      },
      "source": [
        "import cufflinks as cf\n",
        "import plotly.offline\n",
        "cf.go_offline()\n",
        "cf.set_config_file(offline=False, world_readable=True)\n",
        "indcast=[]\n",
        "ind=df.query('country==\"United States\"')\n",
        "for i in ind['cast']:\n",
        "    indcast.append(i)\n",
        "newls=[]\n",
        "for i in indcast:\n",
        "    newls.append(str(i).split(',')[0])\n",
        "inddf=pd.DataFrame(newls,columns=['name'])\n",
        "ind_df=inddf.drop(inddf.query('name==\"nan\"').index)\n",
        "ind_df['name'].value_counts().head(20).plot(kind=\"bar\",width=1,color='Yellow',edgecolor='lightgreen',figsize=(12,6))\n",
        "plt.xlabel(\"Name of the Actors\")\n",
        "plt.ylabel(\"Number Of Movies\")\n",
        "plt.title(\"US stars with maximum movies on netflix\")\n",
        "plt.show()"
      ],
      "execution_count": 35,
      "outputs": [
        {
          "output_type": "display_data",
          "data": {
            "text/html": [
              "        <script type=\"text/javascript\">\n",
              "        window.PlotlyConfig = {MathJaxConfig: 'local'};\n",
              "        if (window.MathJax) {MathJax.Hub.Config({SVG: {font: \"STIX-Web\"}});}\n",
              "        if (typeof require !== 'undefined') {\n",
              "        require.undef(\"plotly\");\n",
              "        requirejs.config({\n",
              "            paths: {\n",
              "                'plotly': ['https://cdn.plot.ly/plotly-latest.min']\n",
              "            }\n",
              "        });\n",
              "        require(['plotly'], function(Plotly) {\n",
              "            window._Plotly = Plotly;\n",
              "        });\n",
              "        }\n",
              "        </script>\n",
              "        "
            ]
          },
          "metadata": {
            "tags": []
          }
        },
        {
          "output_type": "display_data",
          "data": {
            "image/png": "[encoded data removed]",
            "text/plain": [
              "<Figure size 864x432 with 1 Axes>"
            ]
          },
          "metadata": {
            "tags": [],
            "needs_background": "light"
          }
        }
      ]
    },
    {
      "cell_type": "code",
      "metadata": {
        "id": "1ORbL7eY-F-i",
        "colab_type": "code",
        "colab": {}
      },
      "source": [
        "\n",
        "df_mov=df.query(\"type=='Movie'\")\n",
        "df_mov['min']=df_mov['duration'].str.split(' ',expand=True)[0]\n",
        "df_mov['min']=df_mov['min'].astype(int)\n",
        "df_mov['hr']=df_mov['min']/60"
      ],
      "execution_count": 0,
      "outputs": []
    },
    {
      "cell_type": "code",
      "metadata": {
        "id": "r7EbZED59XCC",
        "colab_type": "code",
        "outputId": "1d7f44d0-32dd-4c49-9e09-67cc426fdcc6",
        "colab": {
          "base_uri": "https://localhost:8080/",
          "height": 513
        }
      },
      "source": [
        "##Top Movies By Run Time\n",
        "\n",
        "top20run=df_mov.sort_values(by='hr',ascending=False).head(20)\n",
        "plt.figure(figsize=(12,8))\n",
        "sns.barplot(data=top20run,y='title',x='hr',hue='country',dodge=False)\n",
        "plt.legend(loc='lower right')\n",
        "plt.title('Top 10 movies by Run Time')\n",
        "plt.xlabel('Run time in Hours')\n",
        "plt.ylabel('Movie Names')\n",
        "plt.show()"
      ],
      "execution_count": 37,
      "outputs": [
        {
          "output_type": "display_data",
          "data": {
            "image/png": "[encoded data removed]",
            "text/plain": [
              "<Figure size 864x576 with 1 Axes>"
            ]
          },
          "metadata": {
            "tags": [],
            "needs_background": "light"
          }
        }
      ]
    },
    {
      "cell_type": "markdown",
      "metadata": {
        "id": "GeB0k2SM9Z49",
        "colab_type": "text"
      },
      "source": [
        "##2.4 Data Cleaning"
      ]
    },
    {
      "cell_type": "code",
      "metadata": {
        "id": "xtGo71BzotOV",
        "colab_type": "code",
        "colab": {
          "base_uri": "https://localhost:8080/",
          "height": 1000
        },
        "outputId": "f115ed73-f0c5-46b1-d63d-6724f2358002"
      },
      "source": [
        "#Find Duplicate entry\n",
        "#duplicate_entry=df.duplicated(['title','country','type','release_year'])\n",
        "\n",
        "duplicate_entry=df.duplicated(['title'])\n",
        "df[duplicate_entry]"
      ],
      "execution_count": 38,
      "outputs": [
        {
          "output_type": "execute_result",
          "data": {
            "text/html": [
              "<div>\n",
              "<style scoped>\n",
              "    .dataframe tbody tr th:only-of-type {\n",
              "        vertical-align: middle;\n",
              "    }\n",
              "\n",
              "    .dataframe tbody tr th {\n",
              "        vertical-align: top;\n",
              "    }\n",
              "\n",
              "    .dataframe thead th {\n",
              "        text-align: right;\n",
              "    }\n",
              "</style>\n",
              "<table border=\"1\" class=\"dataframe\">\n",
              "  <thead>\n",
              "    <tr style=\"text-align: right;\">\n",
              "      <th></th>\n",
              "      <th>show_id</th>\n",
              "      <th>type</th>\n",
              "      <th>title</th>\n",
              "      <th>director</th>\n",
              "      <th>cast</th>\n",
              "      <th>country</th>\n",
              "      <th>date_added</th>\n",
              "      <th>release_year</th>\n",
              "      <th>rating</th>\n",
              "      <th>duration</th>\n",
              "      <th>listed_in</th>\n",
              "      <th>description</th>\n",
              "      <th>year_added</th>\n",
              "      <th>month_added</th>\n",
              "      <th>season_count</th>\n",
              "    </tr>\n",
              "  </thead>\n",
              "  <tbody>\n",
              "    <tr>\n",
              "      <th>378</th>\n",
              "      <td>80133200</td>\n",
              "      <td>TV Show</td>\n",
              "      <td>Maniac</td>\n",
              "      <td>NaN</td>\n",
              "      <td>Espen Petrus Andersen Lervaag, Håkon Bast Moss...</td>\n",
              "      <td>Norway</td>\n",
              "      <td>2017-09-01</td>\n",
              "      <td>2015</td>\n",
              "      <td>TV-MA</td>\n",
              "      <td></td>\n",
              "      <td>International TV Shows, TV Comedies, TV Dramas</td>\n",
              "      <td>A nondescript man in a mental hospital has an ...</td>\n",
              "      <td>2017.0</td>\n",
              "      <td>9.0</td>\n",
              "      <td>1</td>\n",
              "    </tr>\n",
              "    <tr>\n",
              "      <th>843</th>\n",
              "      <td>81167047</td>\n",
              "      <td>TV Show</td>\n",
              "      <td>Tunnel</td>\n",
              "      <td>NaN</td>\n",
              "      <td>Choi Jin-hyuk, Yoon Hyun-min, Lee Yoo-young, C...</td>\n",
              "      <td>South Korea</td>\n",
              "      <td>2019-10-01</td>\n",
              "      <td>2017</td>\n",
              "      <td>TV-MA</td>\n",
              "      <td></td>\n",
              "      <td>Crime TV Shows, International TV Shows, Korean...</td>\n",
              "      <td>While chasing a serial murderer, a detective e...</td>\n",
              "      <td>2019.0</td>\n",
              "      <td>10.0</td>\n",
              "      <td>1</td>\n",
              "    </tr>\n",
              "    <tr>\n",
              "      <th>1066</th>\n",
              "      <td>81033200</td>\n",
              "      <td>Movie</td>\n",
              "      <td>Love</td>\n",
              "      <td>Kabir Bhatia, Titien Wattimena</td>\n",
              "      <td>Acha Septriasa, Darius Sinathrya, Fauzi Baadil...</td>\n",
              "      <td>Indonesia</td>\n",
              "      <td>2018-11-30</td>\n",
              "      <td>2008</td>\n",
              "      <td>TV-PG</td>\n",
              "      <td>120</td>\n",
              "      <td>Dramas, International Movies, Romantic Movies</td>\n",
              "      <td>In Jakarta, five couples of varying ages and b...</td>\n",
              "      <td>2018.0</td>\n",
              "      <td>11.0</td>\n",
              "      <td></td>\n",
              "    </tr>\n",
              "    <tr>\n",
              "      <th>1361</th>\n",
              "      <td>81189912</td>\n",
              "      <td>Movie</td>\n",
              "      <td>Drive</td>\n",
              "      <td>Tarun Mansukhani</td>\n",
              "      <td>Jacqueline Fernandez, Sushant Singh Rajput, Bo...</td>\n",
              "      <td>India</td>\n",
              "      <td>2019-11-01</td>\n",
              "      <td>2019</td>\n",
              "      <td>TV-14</td>\n",
              "      <td>119</td>\n",
              "      <td>Action &amp; Adventure, International Movies</td>\n",
              "      <td>A notorious thief allies with a street racer f...</td>\n",
              "      <td>2019.0</td>\n",
              "      <td>11.0</td>\n",
              "      <td></td>\n",
              "    </tr>\n",
              "    <tr>\n",
              "      <th>1597</th>\n",
              "      <td>80209866</td>\n",
              "      <td>Movie</td>\n",
              "      <td>Manhunt</td>\n",
              "      <td>John Woo</td>\n",
              "      <td>Zhang Hanyu, Masaharu Fukuyama, Qi Wei, Ji-won...</td>\n",
              "      <td>China, Hong Kong</td>\n",
              "      <td>2018-05-04</td>\n",
              "      <td>2017</td>\n",
              "      <td>TV-MA</td>\n",
              "      <td>109</td>\n",
              "      <td>Action &amp; Adventure, International Movies</td>\n",
              "      <td>A Chinese pharmaceutical lawyer framed for a v...</td>\n",
              "      <td>2018.0</td>\n",
              "      <td>5.0</td>\n",
              "      <td></td>\n",
              "    </tr>\n",
              "    <tr>\n",
              "      <th>...</th>\n",
              "      <td>...</td>\n",
              "      <td>...</td>\n",
              "      <td>...</td>\n",
              "      <td>...</td>\n",
              "      <td>...</td>\n",
              "      <td>...</td>\n",
              "      <td>...</td>\n",
              "      <td>...</td>\n",
              "      <td>...</td>\n",
              "      <td>...</td>\n",
              "      <td>...</td>\n",
              "      <td>...</td>\n",
              "      <td>...</td>\n",
              "      <td>...</td>\n",
              "      <td>...</td>\n",
              "    </tr>\n",
              "    <tr>\n",
              "      <th>5930</th>\n",
              "      <td>80233218</td>\n",
              "      <td>TV Show</td>\n",
              "      <td>Kakegurui</td>\n",
              "      <td>NaN</td>\n",
              "      <td>Minami Hamabe, Mahiro Takasugi, Aoi Morikawa</td>\n",
              "      <td>Japan</td>\n",
              "      <td>2019-07-04</td>\n",
              "      <td>2019</td>\n",
              "      <td>TV-14</td>\n",
              "      <td></td>\n",
              "      <td>International TV Shows, TV Dramas, TV Thrillers</td>\n",
              "      <td>Yumeko Jabami enrolls at Hyakkaou Private Acad...</td>\n",
              "      <td>2019.0</td>\n",
              "      <td>7.0</td>\n",
              "      <td>2</td>\n",
              "    </tr>\n",
              "    <tr>\n",
              "      <th>5978</th>\n",
              "      <td>80103470</td>\n",
              "      <td>TV Show</td>\n",
              "      <td>Hostages</td>\n",
              "      <td>NaN</td>\n",
              "      <td>Jonah Lotan, Ayelet Zurer, Tomer Kapon, Micha ...</td>\n",
              "      <td>Israel</td>\n",
              "      <td>2017-07-01</td>\n",
              "      <td>2016</td>\n",
              "      <td>TV-MA</td>\n",
              "      <td></td>\n",
              "      <td>Crime TV Shows, International TV Shows, TV Dramas</td>\n",
              "      <td>The night before a surgeon is set to operate o...</td>\n",
              "      <td>2017.0</td>\n",
              "      <td>7.0</td>\n",
              "      <td>2</td>\n",
              "    </tr>\n",
              "    <tr>\n",
              "      <th>6026</th>\n",
              "      <td>80041601</td>\n",
              "      <td>TV Show</td>\n",
              "      <td>Lovesick</td>\n",
              "      <td>NaN</td>\n",
              "      <td>Johnny Flynn, Antonia Thomas, Daniel Ings, Han...</td>\n",
              "      <td>United Kingdom</td>\n",
              "      <td>2018-01-01</td>\n",
              "      <td>2018</td>\n",
              "      <td>TV-MA</td>\n",
              "      <td></td>\n",
              "      <td>British TV Shows, International TV Shows, Roma...</td>\n",
              "      <td>In his quest for true love, Dylan found chlamy...</td>\n",
              "      <td>2018.0</td>\n",
              "      <td>1.0</td>\n",
              "      <td>3</td>\n",
              "    </tr>\n",
              "    <tr>\n",
              "      <th>6159</th>\n",
              "      <td>70140438</td>\n",
              "      <td>TV Show</td>\n",
              "      <td>Skins</td>\n",
              "      <td>NaN</td>\n",
              "      <td>Kaya Scodelario, Hannah Murray, Jack O'Connell...</td>\n",
              "      <td>United Kingdom</td>\n",
              "      <td>2017-08-02</td>\n",
              "      <td>2013</td>\n",
              "      <td>TV-MA</td>\n",
              "      <td></td>\n",
              "      <td>British TV Shows, International TV Shows, TV D...</td>\n",
              "      <td>This incisive series centers on the tense live...</td>\n",
              "      <td>2017.0</td>\n",
              "      <td>8.0</td>\n",
              "      <td>7</td>\n",
              "    </tr>\n",
              "    <tr>\n",
              "      <th>6231</th>\n",
              "      <td>80116008</td>\n",
              "      <td>Movie</td>\n",
              "      <td>Little Baby Bum: Nursery Rhyme Friends</td>\n",
              "      <td>NaN</td>\n",
              "      <td>NaN</td>\n",
              "      <td>NaN</td>\n",
              "      <td>NaT</td>\n",
              "      <td>2016</td>\n",
              "      <td>NaN</td>\n",
              "      <td>60</td>\n",
              "      <td>Movies</td>\n",
              "      <td>Nursery rhymes and original music for children...</td>\n",
              "      <td>NaN</td>\n",
              "      <td>NaN</td>\n",
              "      <td></td>\n",
              "    </tr>\n",
              "  </tbody>\n",
              "</table>\n",
              "<p>62 rows × 15 columns</p>\n",
              "</div>"
            ],
            "text/plain": [
              "       show_id     type  ... month_added season_count\n",
              "378   80133200  TV Show  ...         9.0            1\n",
              "843   81167047  TV Show  ...        10.0            1\n",
              "1066  81033200    Movie  ...        11.0             \n",
              "1361  81189912    Movie  ...        11.0             \n",
              "1597  80209866    Movie  ...         5.0             \n",
              "...        ...      ...  ...         ...          ...\n",
              "5930  80233218  TV Show  ...         7.0            2\n",
              "5978  80103470  TV Show  ...         7.0            2\n",
              "6026  80041601  TV Show  ...         1.0            3\n",
              "6159  70140438  TV Show  ...         8.0            7\n",
              "6231  80116008    Movie  ...         NaN             \n",
              "\n",
              "[62 rows x 15 columns]"
            ]
          },
          "metadata": {
            "tags": []
          },
          "execution_count": 38
        }
      ]
    },
    {
      "cell_type": "code",
      "metadata": {
        "id": "NvlJbVjnJfMp",
        "colab_type": "code",
        "colab": {}
      },
      "source": [
        "#Replace NaN with an empty string\n",
        "df['description'] = df['description'].fillna('')\n",
        "\n",
        "# removing duplicates from the data frame\n",
        "unique_names = pd.Series(df.index, index=df['title']).drop_duplicates()"
      ],
      "execution_count": 0,
      "outputs": []
    },
    {
      "cell_type": "markdown",
      "metadata": {
        "id": "DikosWrr9PgA",
        "colab_type": "text"
      },
      "source": [
        "#3 Methodology"
      ]
    },
    {
      "cell_type": "markdown",
      "metadata": {
        "id": "jRDcm4A4H0EV",
        "colab_type": "text"
      },
      "source": [
        "\n",
        "\n",
        "\n",
        "There are wide variety and significant number of Movies and TV shows available abd people usually tend to watch shows based on the current content as well as best recommended or rated by other viewers.\n",
        "\n",
        "There are Three types of Recommender systems\n",
        "\n",
        "\n",
        "* **Demographic Filtering** \n",
        "\n",
        "\n",
        "> Demographic filtering provides generalized recommendation to every targeted user based on the popularity of the items. This type of filter recommender system considers that the items which are highly viewed and more popular will be chosen by the average audience.\n",
        "\n",
        "\n",
        "* **Collaborative Filtering**\n",
        "\n",
        "> This Collaborative filter can be used to recommend the Movie or TV shows which has not been watched Based on the similarity with the items of the target users and user’s rating. Similarity can be calculated by Cosine similarity or Pearson correlation.\n",
        "\n",
        "* **Content Based Filtering**\n",
        "\n",
        "\n",
        "> Content base filter suggests similar items based on user’s interest on an item. This filter does not depend on another users’ rating. To provide the recommendation, this type of filter uses the metadata of the item such as descriptions, director, actors etc. for the TV shows and movies.\n",
        "\n",
        "\n",
        ">Here we will prepare the Plot based on the similarity of the Descriptions and Movie name will be recommended according to the similarity score. \n",
        "\n",
        "> The workflow of the recommender system is to Convert the words into their respective Term Frequency - Inverse Document Frequency Score.\n",
        "\n"
      ]
    },
    {
      "cell_type": "markdown",
      "metadata": {
        "id": "PmsYgoZWzMgW",
        "colab_type": "text"
      },
      "source": [
        "\n",
        "#4 Evaluation\n",
        "\n"
      ]
    },
    {
      "cell_type": "markdown",
      "metadata": {
        "id": "D2lMv59wDENm",
        "colab_type": "text"
      },
      "source": [
        "## 4.1\tRecommend with Content Based Filtering\n",
        "\n",
        "\n",
        "> Building content based recommender system using cosine similarity algorithm.\n",
        "\n",
        "\n",
        "> Here I have used   TF-IDF matrix to draw the final similarity score by reducing the importance of the words which are occurring very frequently in the plot.\n",
        "TF-IDF matrix can be produced using TfIdfVectorizer class in scikit-learn.\n"
      ]
    },
    {
      "cell_type": "code",
      "metadata": {
        "id": "0-jzHNQFM4AI",
        "colab_type": "code",
        "colab": {}
      },
      "source": [
        "from sklearn.metrics.pairwise import cosine_similarity\n",
        "from sklearn.feature_extraction.text import CountVectorizer"
      ],
      "execution_count": 0,
      "outputs": []
    },
    {
      "cell_type": "code",
      "metadata": {
        "id": "bh8kDY_S9VoO",
        "colab_type": "code",
        "outputId": "6adad6c3-57cf-4543-d438-f57f92296e2f",
        "colab": {
          "base_uri": "https://localhost:8080/",
          "height": 33
        }
      },
      "source": [
        "#Define a TF-IDF Vectorizer Object. Remove all english stop words such as 'the', 'a'\n",
        "tfidf_vect = TfidfVectorizer(stop_words='english')\n",
        "\n",
        "\n",
        "#Construct the required TF-IDF matrix by fitting and transforming the data\n",
        "tfidf_matrix = tfidf_vect.fit_transform(df['description'])\n",
        "\n",
        "#Output the shape of tfidf_matrix\n",
        "tfidf_matrix.shape\n",
        "\n"
      ],
      "execution_count": 41,
      "outputs": [
        {
          "output_type": "execute_result",
          "data": {
            "text/plain": [
              "(6234, 16151)"
            ]
          },
          "metadata": {
            "tags": []
          },
          "execution_count": 41
        }
      ]
    },
    {
      "cell_type": "markdown",
      "metadata": {
        "id": "DYSeCTi7Axuq",
        "colab_type": "text"
      },
      "source": [
        "**Cosine Similar**\n",
        "\n",
        "> we will use Cosine Similarity to calculete the nemeric similarity between differnt matices\n",
        "\n"
      ]
    },
    {
      "cell_type": "markdown",
      "metadata": {
        "id": "bFzfOsDj_C7h",
        "colab_type": "text"
      },
      "source": [
        "\n",
        "\n",
        "> We have to apply the similarity score based on more than 148000 different words and 5234 Movies and TV shows in the dataset.\n",
        "Out of different types of method like Pearson, Cosine Similarity scores, here I have applied cosine similarity scopes to find the similarity between different movies as this is relatively easy and quicker to calculate.\n",
        "Mathematical terms for the cosine similarity as follows: \n",
        "\n",
        "![image.png](data:image/png;base64,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)\n",
        "\n",
        "\n",
        "\n"
      ]
    },
    {
      "cell_type": "code",
      "metadata": {
        "id": "C_z3iUoy9OqZ",
        "colab_type": "code",
        "colab": {}
      },
      "source": [
        "# Compute the cosine similarity matrix\n",
        "cosine_sim = cosine_similarity(tfidf_matrix, tfidf_matrix)"
      ],
      "execution_count": 0,
      "outputs": []
    },
    {
      "cell_type": "code",
      "metadata": {
        "id": "KekExBOO_fRu",
        "colab_type": "code",
        "colab": {}
      },
      "source": [
        "# Following functions are used to generate the output of similar movies based on the movie title as input\n",
        "\n",
        "def get_recommendations(title, number=10, cosine_sim=cosine_sim):\n",
        "    # Find movie index with matching title\n",
        "    movie_list = unique_names[title]\n",
        "\n",
        "    # generate pairwsie similarity scores \n",
        "    score = list(enumerate(cosine_sim[movie_list]))\n",
        "\n",
        "    # Sort the movies depneding on the similarity scores\n",
        "    score = sorted(score, key=lambda x: x[1], reverse=True)\n",
        "\n",
        "    # The scores of the n most movies based on similarity\n",
        "    score = score[1:number]\n",
        "\n",
        "    # movie indices\n",
        "    movie_indices = [i[0] for i in score]\n",
        "\n",
        "    # Finding the top most similar movies\n",
        "    return df['title'].iloc[movie_indices]\n"
      ],
      "execution_count": 0,
      "outputs": []
    },
    {
      "cell_type": "code",
      "metadata": {
        "id": "sF701hZZ_6K2",
        "colab_type": "code",
        "colab": {}
      },
      "source": [
        "new_df = df[['title','director','cast','listed_in','description']]"
      ],
      "execution_count": 0,
      "outputs": []
    },
    {
      "cell_type": "code",
      "metadata": {
        "id": "yEkeEzlP_-nJ",
        "colab_type": "code",
        "outputId": "68a98a36-af08-4186-b101-22f18b6f27df",
        "colab": {
          "base_uri": "https://localhost:8080/",
          "height": 281
        }
      },
      "source": [
        "new_df.head()"
      ],
      "execution_count": 45,
      "outputs": [
        {
          "output_type": "execute_result",
          "data": {
            "text/html": [
              "<div>\n",
              "<style scoped>\n",
              "    .dataframe tbody tr th:only-of-type {\n",
              "        vertical-align: middle;\n",
              "    }\n",
              "\n",
              "    .dataframe tbody tr th {\n",
              "        vertical-align: top;\n",
              "    }\n",
              "\n",
              "    .dataframe thead th {\n",
              "        text-align: right;\n",
              "    }\n",
              "</style>\n",
              "<table border=\"1\" class=\"dataframe\">\n",
              "  <thead>\n",
              "    <tr style=\"text-align: right;\">\n",
              "      <th></th>\n",
              "      <th>title</th>\n",
              "      <th>director</th>\n",
              "      <th>cast</th>\n",
              "      <th>listed_in</th>\n",
              "      <th>description</th>\n",
              "    </tr>\n",
              "  </thead>\n",
              "  <tbody>\n",
              "    <tr>\n",
              "      <th>0</th>\n",
              "      <td>Norm of the North: King Sized Adventure</td>\n",
              "      <td>Richard Finn, Tim Maltby</td>\n",
              "      <td>Alan Marriott, Andrew Toth, Brian Dobson, Cole...</td>\n",
              "      <td>Children &amp; Family Movies, Comedies</td>\n",
              "      <td>Before planning an awesome wedding for his gra...</td>\n",
              "    </tr>\n",
              "    <tr>\n",
              "      <th>1</th>\n",
              "      <td>Jandino: Whatever it Takes</td>\n",
              "      <td>NaN</td>\n",
              "      <td>Jandino Asporaat</td>\n",
              "      <td>Stand-Up Comedy</td>\n",
              "      <td>Jandino Asporaat riffs on the challenges of ra...</td>\n",
              "    </tr>\n",
              "    <tr>\n",
              "      <th>2</th>\n",
              "      <td>Transformers Prime</td>\n",
              "      <td>NaN</td>\n",
              "      <td>Peter Cullen, Sumalee Montano, Frank Welker, J...</td>\n",
              "      <td>Kids' TV</td>\n",
              "      <td>With the help of three human allies, the Autob...</td>\n",
              "    </tr>\n",
              "    <tr>\n",
              "      <th>3</th>\n",
              "      <td>Transformers: Robots in Disguise</td>\n",
              "      <td>NaN</td>\n",
              "      <td>Will Friedle, Darren Criss, Constance Zimmer, ...</td>\n",
              "      <td>Kids' TV</td>\n",
              "      <td>When a prison ship crash unleashes hundreds of...</td>\n",
              "    </tr>\n",
              "    <tr>\n",
              "      <th>4</th>\n",
              "      <td>#realityhigh</td>\n",
              "      <td>Fernando Lebrija</td>\n",
              "      <td>Nesta Cooper, Kate Walsh, John Michael Higgins...</td>\n",
              "      <td>Comedies</td>\n",
              "      <td>When nerdy high schooler Dani finally attracts...</td>\n",
              "    </tr>\n",
              "  </tbody>\n",
              "</table>\n",
              "</div>"
            ],
            "text/plain": [
              "                                     title  ...                                        description\n",
              "0  Norm of the North: King Sized Adventure  ...  Before planning an awesome wedding for his gra...\n",
              "1               Jandino: Whatever it Takes  ...  Jandino Asporaat riffs on the challenges of ra...\n",
              "2                       Transformers Prime  ...  With the help of three human allies, the Autob...\n",
              "3         Transformers: Robots in Disguise  ...  When a prison ship crash unleashes hundreds of...\n",
              "4                             #realityhigh  ...  When nerdy high schooler Dani finally attracts...\n",
              "\n",
              "[5 rows x 5 columns]"
            ]
          },
          "metadata": {
            "tags": []
          },
          "execution_count": 45
        }
      ]
    },
    {
      "cell_type": "code",
      "metadata": {
        "id": "f19MjUOo_glI",
        "colab_type": "code",
        "colab": {}
      },
      "source": [
        "from rake_nltk import Rake"
      ],
      "execution_count": 0,
      "outputs": []
    },
    {
      "cell_type": "code",
      "metadata": {
        "id": "cpfc7mwgARmQ",
        "colab_type": "code",
        "colab": {}
      },
      "source": [
        "new_df['director']=new_df['director'].fillna(' ')\n",
        "new_df['director']=new_df['director'].astype('str')\n",
        "new_df['cast']=new_df['cast'].fillna(' ')\n",
        "new_df['cast']=new_df['cast'].astype('str')"
      ],
      "execution_count": 0,
      "outputs": []
    },
    {
      "cell_type": "code",
      "metadata": {
        "id": "cBwMZxIBAXBl",
        "colab_type": "code",
        "colab": {}
      },
      "source": [
        "new_df['Content_Description']= ''\n",
        "for index,row in new_df.iterrows():\n",
        "    plot = row['description']\n",
        "    r = Rake()\n",
        "    r.extract_keywords_from_text(plot)\n",
        "    keyword_score = r.get_word_degrees()\n",
        "    g = ''.join(row['listed_in'].split(',')).lower()\n",
        "    d = ''.join(row['director'].replace(' ','').split(',')).lower()\n",
        "    a = ' '.join(row['cast'].replace(' ','').split(',')).lower()\n",
        "    k = ' '.join(list(keyword_score.keys()))\n",
        "    row['Content_Description'] = g + ' ' + ' ' + d + ' ' + a + ' ' + k\n",
        "\n",
        "mydf = new_df[['title','Content_Description']]"
      ],
      "execution_count": 0,
      "outputs": []
    },
    {
      "cell_type": "code",
      "metadata": {
        "id": "2RoGiyfcAaLH",
        "colab_type": "code",
        "outputId": "ec2504a5-76a9-4e7f-9f1f-45a048d2238a",
        "colab": {
          "base_uri": "https://localhost:8080/",
          "height": 197
        }
      },
      "source": [
        "mydf.head()"
      ],
      "execution_count": 49,
      "outputs": [
        {
          "output_type": "execute_result",
          "data": {
            "text/html": [
              "<div>\n",
              "<style scoped>\n",
              "    .dataframe tbody tr th:only-of-type {\n",
              "        vertical-align: middle;\n",
              "    }\n",
              "\n",
              "    .dataframe tbody tr th {\n",
              "        vertical-align: top;\n",
              "    }\n",
              "\n",
              "    .dataframe thead th {\n",
              "        text-align: right;\n",
              "    }\n",
              "</style>\n",
              "<table border=\"1\" class=\"dataframe\">\n",
              "  <thead>\n",
              "    <tr style=\"text-align: right;\">\n",
              "      <th></th>\n",
              "      <th>title</th>\n",
              "      <th>Content_Description</th>\n",
              "    </tr>\n",
              "  </thead>\n",
              "  <tbody>\n",
              "    <tr>\n",
              "      <th>0</th>\n",
              "      <td>Norm of the North: King Sized Adventure</td>\n",
              "      <td>children &amp; family movies comedies  richardfinn...</td>\n",
              "    </tr>\n",
              "    <tr>\n",
              "      <th>1</th>\n",
              "      <td>Jandino: Whatever it Takes</td>\n",
              "      <td>stand-up comedy   jandinoasporaat rousing rend...</td>\n",
              "    </tr>\n",
              "    <tr>\n",
              "      <th>2</th>\n",
              "      <td>Transformers Prime</td>\n",
              "      <td>kids' tv   petercullen sumaleemontano frankwel...</td>\n",
              "    </tr>\n",
              "    <tr>\n",
              "      <th>3</th>\n",
              "      <td>Transformers: Robots in Disguise</td>\n",
              "      <td>kids' tv   willfriedle darrencriss constancezi...</td>\n",
              "    </tr>\n",
              "    <tr>\n",
              "      <th>4</th>\n",
              "      <td>#realityhigh</td>\n",
              "      <td>comedies  fernandolebrija nestacooper katewals...</td>\n",
              "    </tr>\n",
              "  </tbody>\n",
              "</table>\n",
              "</div>"
            ],
            "text/plain": [
              "                                     title                                Content_Description\n",
              "0  Norm of the North: King Sized Adventure  children & family movies comedies  richardfinn...\n",
              "1               Jandino: Whatever it Takes  stand-up comedy   jandinoasporaat rousing rend...\n",
              "2                       Transformers Prime  kids' tv   petercullen sumaleemontano frankwel...\n",
              "3         Transformers: Robots in Disguise  kids' tv   willfriedle darrencriss constancezi...\n",
              "4                             #realityhigh  comedies  fernandolebrija nestacooper katewals..."
            ]
          },
          "metadata": {
            "tags": []
          },
          "execution_count": 49
        }
      ]
    },
    {
      "cell_type": "code",
      "metadata": {
        "id": "KlnIMePSAf_I",
        "colab_type": "code",
        "outputId": "f8f9517e-cd9e-4313-8ce0-79105ed4f5fa",
        "colab": {
          "base_uri": "https://localhost:8080/",
          "height": 100
        }
      },
      "source": [
        "get_recommendations('Good People', 5)"
      ],
      "execution_count": 50,
      "outputs": [
        {
          "output_type": "execute_result",
          "data": {
            "text/plain": [
              "4502       Luck by Chance\n",
              "4042       Velvet Buzzsaw\n",
              "3317    Where's the Money\n",
              "4451           Soundtrack\n",
              "Name: title, dtype: object"
            ]
          },
          "metadata": {
            "tags": []
          },
          "execution_count": 50
        }
      ]
    },
    {
      "cell_type": "code",
      "metadata": {
        "id": "GTLC47o0AjV3",
        "colab_type": "code",
        "outputId": "c71c09a4-b6a4-41f9-9422-edd30fe39057",
        "colab": {
          "base_uri": "https://localhost:8080/",
          "height": 183
        }
      },
      "source": [
        "get_recommendations('Norm of the North: King Sized Adventure')"
      ],
      "execution_count": 51,
      "outputs": [
        {
          "output_type": "execute_result",
          "data": {
            "text/plain": [
              "1780    Norm of the North: Keys to the Kingdom\n",
              "2222                                    Ottaal\n",
              "70                               We Bare Bears\n",
              "6205               Pororo - The Little Penguin\n",
              "4665              Man vs Wild with Sunny Leone\n",
              "3785                                The Lovers\n",
              "423                           Garuda Di Dadaku\n",
              "5239                    Ingress: The Animation\n",
              "4692                                Sardaar ji\n",
              "Name: title, dtype: object"
            ]
          },
          "metadata": {
            "tags": []
          },
          "execution_count": 51
        }
      ]
    },
    {
      "cell_type": "markdown",
      "metadata": {
        "id": "rKWIJACTMVRM",
        "colab_type": "text"
      },
      "source": [
        "#4 Conclusion"
      ]
    },
    {
      "cell_type": "markdown",
      "metadata": {
        "id": "2XG8eDutMdts",
        "colab_type": "text"
      },
      "source": [
        "Sometimes users or audiences rate the item as good, execellent or bad without proper indication which becomes very tricky to determine whether users are really proving proper evaluation or not. \n",
        "\n",
        "Based on this thought I have selected Content based filtering model which captures the items based on particular interest of the users.\n",
        "As the recommendations are very specific to the user so this model doesn't require any evaluation of the users."
      ]
    },
    {
      "cell_type": "markdown",
      "metadata": {
        "id": "2IyHPvbPovWO",
        "colab_type": "text"
      },
      "source": [
        "**Reference**"
      ]
    },
    {
      "cell_type": "markdown",
      "metadata": {
        "id": "qBZ1xNm-pefj",
        "colab_type": "text"
      },
      "source": [
        "1. https://www.kaggle.com/shivamb/netflix-shows\n",
        "2.https://www.kaggle.com/ibtesama/getting-started-with-a-movie-recommendation-system\n",
        "---\n",
        "\n"
      ]
    }
  ]
}